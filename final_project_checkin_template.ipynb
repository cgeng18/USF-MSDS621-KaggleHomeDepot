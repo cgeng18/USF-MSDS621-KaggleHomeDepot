{
cells: [
{
cell_type: "markdown",
metadata: { },
source: [
"Final Project Check-in 2018-11-16 ",
"------"
]
},
{
cell_type: "markdown",
metadata: { },
source: [
"Group Name ",
"-----"
]
},
{
cell_type: "markdown",
metadata: { },
source: [
" "
]
},
{
cell_type: "markdown",
metadata: { },
source: [
"Student Names ",
"----"
]
},
{
cell_type: "markdown",
metadata: { },
source: [
"1. ",
"2. ",
"3. ",
"4. ",
"5. "
]
},
{
cell_type: "markdown",
metadata: { },
source: [
"Load Data ",
"-----"
]
},
{
cell_type: "code",
execution_count: null,
metadata: { },
outputs: [ ],
source: [ ]
},
{
cell_type: "markdown",
metadata: { },
source: [
"Fit scikit-learn model ",
"----"
]
},
{
cell_type: "code",
execution_count: null,
metadata: { },
outputs: [ ],
source: [ ]
},
{
cell_type: "markdown",
metadata: { },
source: [
"Evaluation Metric ",
"----"
]
},
{
cell_type: "code",
execution_count: null,
metadata: { },
outputs: [ ],
source: [ ]
}
],
metadata: {
kernelspec: {
display_name: "Python 3",
language: "python",
name: "python3"
},
language_info: {
codemirror_mode: {
name: "ipython",
version: 3
},
file_extension: ".py",
mimetype: "text/x-python",
name: "python",
nbconvert_exporter: "python",
pygments_lexer: "ipython3",
version: "3.6.6"
}
},
nbformat: 4,
nbformat_minor: 2
}
