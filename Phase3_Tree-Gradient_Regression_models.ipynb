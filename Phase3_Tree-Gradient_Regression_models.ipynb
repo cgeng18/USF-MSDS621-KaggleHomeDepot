{
 "cells": [
  {
   "cell_type": "markdown",
   "metadata": {},
   "source": [
    "# Final Project Check-in 2018-11-16"
   ]
  },
  {
   "cell_type": "markdown",
   "metadata": {},
   "source": [
    "## Group Name: Lambda"
   ]
  },
  {
   "cell_type": "markdown",
   "metadata": {},
   "source": [
    "### Student Names\n",
    "1. Jian Wang\n",
    "2. Chong Geng\n",
    "3. Alan Perry\n",
    "4. Divya Bhargavi\n",
    "5. Robert Sandor"
   ]
  },
  {
   "cell_type": "markdown",
   "metadata": {},
   "source": [
    "## Load Data"
   ]
  },
  {
   "cell_type": "code",
   "execution_count": 1,
   "metadata": {},
   "outputs": [],
   "source": [
    "from collections import defaultdict\n",
    "from math import sqrt\n",
    "from matplotlib import pyplot as plt\n",
    "import pandas as pd\n",
    "import numpy as np\n",
    "import nltk\n",
    "from nltk.stem.porter import PorterStemmer\n",
    "import operator\n",
    "import re\n",
    "from scipy import spatial\n",
    "from sklearn.feature_extraction import stop_words\n",
    "from sklearn.feature_extraction import stop_words\n",
    "from sklearn.feature_extraction.text import TfidfVectorizer\n",
    "from sklearn.svm import SVR\n",
    "from sklearn.linear_model import LinearRegression\n",
    "from sklearn.metrics import mean_squared_error\n",
    "from sklearn.model_selection import train_test_split\n",
    "import string\n",
    "import time"
   ]
  },
  {
   "cell_type": "code",
   "execution_count": 2,
   "metadata": {},
   "outputs": [
    {
     "data": {
      "text/html": [
       "<div>\n",
       "<style scoped>\n",
       "    .dataframe tbody tr th:only-of-type {\n",
       "        vertical-align: middle;\n",
       "    }\n",
       "\n",
       "    .dataframe tbody tr th {\n",
       "        vertical-align: top;\n",
       "    }\n",
       "\n",
       "    .dataframe thead th {\n",
       "        text-align: right;\n",
       "    }\n",
       "</style>\n",
       "<table border=\"1\" class=\"dataframe\">\n",
       "  <thead>\n",
       "    <tr style=\"text-align: right;\">\n",
       "      <th></th>\n",
       "      <th>index</th>\n",
       "      <th>product_uid</th>\n",
       "      <th>product_title</th>\n",
       "      <th>search_term</th>\n",
       "      <th>relevance</th>\n",
       "      <th>id</th>\n",
       "      <th>product_description</th>\n",
       "      <th>cleaned_terms</th>\n",
       "      <th>stemmed_terms</th>\n",
       "      <th>stemmed_title</th>\n",
       "      <th>...</th>\n",
       "      <th>stemmed_terms_in_title</th>\n",
       "      <th>stemmed_terms_in_desc</th>\n",
       "      <th>lemmatized_terms_in_title</th>\n",
       "      <th>lemmatized_terms_in_desc</th>\n",
       "      <th>neighbours_in_title</th>\n",
       "      <th>neighbours_in_desc</th>\n",
       "      <th>search_term_in_attrib</th>\n",
       "      <th>color_in_search_term</th>\n",
       "      <th>min_levenstein_dist_title</th>\n",
       "      <th>min_levenstein_dist_brand</th>\n",
       "    </tr>\n",
       "  </thead>\n",
       "  <tbody>\n",
       "    <tr>\n",
       "      <th>0</th>\n",
       "      <td>0</td>\n",
       "      <td>100001</td>\n",
       "      <td>Simpson Strong-Tie 12-Gauge Angle</td>\n",
       "      <td>angle bracket</td>\n",
       "      <td>3.0</td>\n",
       "      <td>2</td>\n",
       "      <td>Not only do angles make joints stronger, they ...</td>\n",
       "      <td>angle bracket</td>\n",
       "      <td>angl bracket</td>\n",
       "      <td>simpson strong tie gaug angl</td>\n",
       "      <td>...</td>\n",
       "      <td>1.0</td>\n",
       "      <td>1.0</td>\n",
       "      <td>1.0</td>\n",
       "      <td>1.0</td>\n",
       "      <td>0.0</td>\n",
       "      <td>1.0</td>\n",
       "      <td>1</td>\n",
       "      <td>0</td>\n",
       "      <td>10.0</td>\n",
       "      <td>0.001</td>\n",
       "    </tr>\n",
       "  </tbody>\n",
       "</table>\n",
       "<p>1 rows × 30 columns</p>\n",
       "</div>"
      ],
      "text/plain": [
       "   index  product_uid                      product_title    search_term  \\\n",
       "0      0       100001  Simpson Strong-Tie 12-Gauge Angle  angle bracket   \n",
       "\n",
       "   relevance  id                                product_description  \\\n",
       "0        3.0   2  Not only do angles make joints stronger, they ...   \n",
       "\n",
       "   cleaned_terms stemmed_terms                 stemmed_title  \\\n",
       "0  angle bracket  angl bracket  simpson strong tie gaug angl   \n",
       "\n",
       "             ...             stemmed_terms_in_title stemmed_terms_in_desc  \\\n",
       "0            ...                                1.0                   1.0   \n",
       "\n",
       "  lemmatized_terms_in_title lemmatized_terms_in_desc neighbours_in_title  \\\n",
       "0                       1.0                      1.0                 0.0   \n",
       "\n",
       "   neighbours_in_desc  search_term_in_attrib  color_in_search_term  \\\n",
       "0                 1.0                      1                     0   \n",
       "\n",
       "   min_levenstein_dist_title  min_levenstein_dist_brand  \n",
       "0                       10.0                      0.001  \n",
       "\n",
       "[1 rows x 30 columns]"
      ]
     },
     "execution_count": 2,
     "metadata": {},
     "output_type": "execute_result"
    }
   ],
   "source": [
    "modified_train = pd.read_csv('combined.csv', encoding='ISO-8859-1')\n",
    "modified_train.drop(columns=['Unnamed: 0']).head(1)"
   ]
  },
  {
   "cell_type": "markdown",
   "metadata": {},
   "source": [
    "## Fit scikit-learn model"
   ]
  },
  {
   "cell_type": "code",
   "execution_count": 3,
   "metadata": {},
   "outputs": [],
   "source": [
    "# choice 1\n",
    "X_train = modified_train[['clean_length', 'title_length', \n",
    "                          'desc_length', 'clean_terms_in_title', \n",
    "                          'clean_terms_in_desc', 'stemmed_terms_in_title',\n",
    "                          'stemmed_terms_in_desc','lemmatized_terms_in_title',\n",
    "                          'lemmatized_terms_in_desc','neighbours_in_title',\n",
    "                         'neighbours_in_desc','min_levenstein_dist_brand',\n",
    "                          'min_levenstein_dist_title','color_in_search_term',\n",
    "                         'search_term_in_attrib','neighbours_in_desc',\n",
    "                         'neighbours_in_title', 'lemmatized_terms_in_desc',]]\n",
    "y_train = modified_train[['relevance']]"
   ]
  },
  {
   "cell_type": "code",
   "execution_count": 4,
   "metadata": {},
   "outputs": [],
   "source": [
    "# since we can't see the relevancy scores of the test set,\n",
    "# I decided to split the training set \n",
    "train_data, test_data, train_target, test_target = train_test_split(X_train,\n",
    "                                                                        y_train, random_state=42)"
   ]
  },
  {
   "cell_type": "code",
   "execution_count": 5,
   "metadata": {},
   "outputs": [
    {
     "name": "stderr",
     "output_type": "stream",
     "text": [
      "/Library/Frameworks/Python.framework/Versions/3.7/lib/python3.7/site-packages/sklearn/linear_model/base.py:485: RuntimeWarning: internal gelsd driver lwork query error, required iwork dimension not returned. This is likely the result of LAPACK bug 0038, fixed in LAPACK 3.2.2 (released July 21, 2010). Falling back to 'gelss' driver.\n",
      "  linalg.lstsq(X, y)\n"
     ]
    },
    {
     "data": {
      "text/plain": [
       "LinearRegression(copy_X=True, fit_intercept=True, n_jobs=None,\n",
       "         normalize=False)"
      ]
     },
     "execution_count": 5,
     "metadata": {},
     "output_type": "execute_result"
    }
   ],
   "source": [
    "lin_reg_model = LinearRegression()\n",
    "lin_reg_model.fit(train_data, train_target)"
   ]
  },
  {
   "cell_type": "code",
   "execution_count": 6,
   "metadata": {},
   "outputs": [
    {
     "name": "stdout",
     "output_type": "stream",
     "text": [
      "[[2.02337346]\n",
      " [2.19124392]\n",
      " [2.32077374]\n",
      " [2.65426502]\n",
      " [2.69076532]]\n",
      "       relevance\n",
      "13534       3.00\n",
      "29748       2.67\n",
      "20225       2.67\n",
      "5169        2.67\n",
      "49860       2.00\n"
     ]
    }
   ],
   "source": [
    "predicted = lin_reg_model.predict(test_data)\n",
    "print(predicted[:5])\n",
    "print(test_target[:5])"
   ]
  },
  {
   "cell_type": "markdown",
   "metadata": {},
   "source": [
    "## Evaluation Metric"
   ]
  },
  {
   "cell_type": "code",
   "execution_count": 7,
   "metadata": {},
   "outputs": [
    {
     "name": "stdout",
     "output_type": "stream",
     "text": [
      "0.4997\n"
     ]
    }
   ],
   "source": [
    "# since an RMSE function couldn't be found quickly in the sklearn library,\n",
    "# we just used the MSE function and took the square root of that\n",
    "rmse_lin_reg = sqrt(mean_squared_error(predicted, test_target))\n",
    "\n",
    "# this value is equivalent to rank 1680 on the Kaggle leaderboard for this competition\n",
    "# the benchmark was ~ rank 1681\n",
    "# https://www.kaggle.com/c/home-depot-product-search-relevance/leaderboard\n",
    "print(f\"{rmse_lin_reg:.4f}\")"
   ]
  },
  {
   "cell_type": "code",
   "execution_count": 8,
   "metadata": {},
   "outputs": [
    {
     "data": {
      "text/html": [
       "<div>\n",
       "<style scoped>\n",
       "    .dataframe tbody tr th:only-of-type {\n",
       "        vertical-align: middle;\n",
       "    }\n",
       "\n",
       "    .dataframe tbody tr th {\n",
       "        vertical-align: top;\n",
       "    }\n",
       "\n",
       "    .dataframe thead th {\n",
       "        text-align: right;\n",
       "    }\n",
       "</style>\n",
       "<table border=\"1\" class=\"dataframe\">\n",
       "  <thead>\n",
       "    <tr style=\"text-align: right;\">\n",
       "      <th></th>\n",
       "      <th>clean_length</th>\n",
       "      <th>title_length</th>\n",
       "      <th>desc_length</th>\n",
       "      <th>clean_terms_in_title</th>\n",
       "      <th>clean_terms_in_desc</th>\n",
       "      <th>stemmed_terms_in_title</th>\n",
       "      <th>stemmed_terms_in_desc</th>\n",
       "      <th>lemmatized_terms_in_title</th>\n",
       "      <th>lemmatized_terms_in_desc</th>\n",
       "      <th>neighbours_in_title</th>\n",
       "      <th>neighbours_in_desc</th>\n",
       "      <th>min_levenstein_dist_brand</th>\n",
       "      <th>min_levenstein_dist_title</th>\n",
       "      <th>color_in_search_term</th>\n",
       "      <th>search_term_in_attrib</th>\n",
       "      <th>neighbours_in_desc</th>\n",
       "      <th>neighbours_in_title</th>\n",
       "      <th>lemmatized_terms_in_desc</th>\n",
       "    </tr>\n",
       "  </thead>\n",
       "  <tbody>\n",
       "    <tr>\n",
       "      <th>62710</th>\n",
       "      <td>1.0</td>\n",
       "      <td>12.0</td>\n",
       "      <td>101.0</td>\n",
       "      <td>0.0</td>\n",
       "      <td>1.0</td>\n",
       "      <td>1.0</td>\n",
       "      <td>1.0</td>\n",
       "      <td>1.0</td>\n",
       "      <td>1.0</td>\n",
       "      <td>1.0</td>\n",
       "      <td>1.0</td>\n",
       "      <td>0.001</td>\n",
       "      <td>1.0</td>\n",
       "      <td>0</td>\n",
       "      <td>1</td>\n",
       "      <td>1.0</td>\n",
       "      <td>1.0</td>\n",
       "      <td>1.0</td>\n",
       "    </tr>\n",
       "    <tr>\n",
       "      <th>852</th>\n",
       "      <td>3.0</td>\n",
       "      <td>13.0</td>\n",
       "      <td>121.0</td>\n",
       "      <td>2.0</td>\n",
       "      <td>2.0</td>\n",
       "      <td>2.0</td>\n",
       "      <td>2.0</td>\n",
       "      <td>2.0</td>\n",
       "      <td>2.0</td>\n",
       "      <td>0.0</td>\n",
       "      <td>0.0</td>\n",
       "      <td>0.001</td>\n",
       "      <td>10.0</td>\n",
       "      <td>0</td>\n",
       "      <td>1</td>\n",
       "      <td>0.0</td>\n",
       "      <td>0.0</td>\n",
       "      <td>2.0</td>\n",
       "    </tr>\n",
       "    <tr>\n",
       "      <th>67325</th>\n",
       "      <td>3.0</td>\n",
       "      <td>13.0</td>\n",
       "      <td>178.0</td>\n",
       "      <td>2.0</td>\n",
       "      <td>2.0</td>\n",
       "      <td>2.0</td>\n",
       "      <td>2.0</td>\n",
       "      <td>2.0</td>\n",
       "      <td>2.0</td>\n",
       "      <td>1.0</td>\n",
       "      <td>3.0</td>\n",
       "      <td>0.001</td>\n",
       "      <td>10.0</td>\n",
       "      <td>0</td>\n",
       "      <td>2</td>\n",
       "      <td>3.0</td>\n",
       "      <td>1.0</td>\n",
       "      <td>2.0</td>\n",
       "    </tr>\n",
       "    <tr>\n",
       "      <th>9523</th>\n",
       "      <td>4.0</td>\n",
       "      <td>12.0</td>\n",
       "      <td>104.0</td>\n",
       "      <td>3.0</td>\n",
       "      <td>2.0</td>\n",
       "      <td>3.0</td>\n",
       "      <td>2.0</td>\n",
       "      <td>3.0</td>\n",
       "      <td>2.0</td>\n",
       "      <td>2.0</td>\n",
       "      <td>3.0</td>\n",
       "      <td>0.001</td>\n",
       "      <td>10.0</td>\n",
       "      <td>0</td>\n",
       "      <td>2</td>\n",
       "      <td>3.0</td>\n",
       "      <td>2.0</td>\n",
       "      <td>2.0</td>\n",
       "    </tr>\n",
       "    <tr>\n",
       "      <th>70415</th>\n",
       "      <td>2.0</td>\n",
       "      <td>19.0</td>\n",
       "      <td>237.0</td>\n",
       "      <td>1.0</td>\n",
       "      <td>1.0</td>\n",
       "      <td>1.0</td>\n",
       "      <td>1.0</td>\n",
       "      <td>1.0</td>\n",
       "      <td>1.0</td>\n",
       "      <td>0.0</td>\n",
       "      <td>1.0</td>\n",
       "      <td>0.001</td>\n",
       "      <td>10.0</td>\n",
       "      <td>0</td>\n",
       "      <td>1</td>\n",
       "      <td>1.0</td>\n",
       "      <td>0.0</td>\n",
       "      <td>1.0</td>\n",
       "    </tr>\n",
       "  </tbody>\n",
       "</table>\n",
       "</div>"
      ],
      "text/plain": [
       "       clean_length  title_length  desc_length  clean_terms_in_title  \\\n",
       "62710           1.0          12.0        101.0                   0.0   \n",
       "852             3.0          13.0        121.0                   2.0   \n",
       "67325           3.0          13.0        178.0                   2.0   \n",
       "9523            4.0          12.0        104.0                   3.0   \n",
       "70415           2.0          19.0        237.0                   1.0   \n",
       "\n",
       "       clean_terms_in_desc  stemmed_terms_in_title  stemmed_terms_in_desc  \\\n",
       "62710                  1.0                     1.0                    1.0   \n",
       "852                    2.0                     2.0                    2.0   \n",
       "67325                  2.0                     2.0                    2.0   \n",
       "9523                   2.0                     3.0                    2.0   \n",
       "70415                  1.0                     1.0                    1.0   \n",
       "\n",
       "       lemmatized_terms_in_title  lemmatized_terms_in_desc  \\\n",
       "62710                        1.0                       1.0   \n",
       "852                          2.0                       2.0   \n",
       "67325                        2.0                       2.0   \n",
       "9523                         3.0                       2.0   \n",
       "70415                        1.0                       1.0   \n",
       "\n",
       "       neighbours_in_title  neighbours_in_desc  min_levenstein_dist_brand  \\\n",
       "62710                  1.0                 1.0                      0.001   \n",
       "852                    0.0                 0.0                      0.001   \n",
       "67325                  1.0                 3.0                      0.001   \n",
       "9523                   2.0                 3.0                      0.001   \n",
       "70415                  0.0                 1.0                      0.001   \n",
       "\n",
       "       min_levenstein_dist_title  color_in_search_term  search_term_in_attrib  \\\n",
       "62710                        1.0                     0                      1   \n",
       "852                         10.0                     0                      1   \n",
       "67325                       10.0                     0                      2   \n",
       "9523                        10.0                     0                      2   \n",
       "70415                       10.0                     0                      1   \n",
       "\n",
       "       neighbours_in_desc  neighbours_in_title  lemmatized_terms_in_desc  \n",
       "62710                 1.0                  1.0                       1.0  \n",
       "852                   0.0                  0.0                       2.0  \n",
       "67325                 3.0                  1.0                       2.0  \n",
       "9523                  3.0                  2.0                       2.0  \n",
       "70415                 1.0                  0.0                       1.0  "
      ]
     },
     "execution_count": 8,
     "metadata": {},
     "output_type": "execute_result"
    }
   ],
   "source": [
    "train_data.head()\n"
   ]
  },
  {
   "cell_type": "markdown",
   "metadata": {},
   "source": [
    "Random Forrest"
   ]
  },
  {
   "cell_type": "code",
   "execution_count": 9,
   "metadata": {},
   "outputs": [],
   "source": [
    "import matplotlib.pyplot as plt\n",
    "from sklearn.ensemble import RandomForestRegressor\n",
    "from sklearn.model_selection import GridSearchCV\n",
    "from sklearn.pipeline import Pipeline\n",
    "from sklearn.metrics import mean_squared_error,make_scorer\n",
    "from sklearn.model_selection import cross_val_score"
   ]
  },
  {
   "cell_type": "code",
   "execution_count": 10,
   "metadata": {
    "scrolled": true
   },
   "outputs": [
    {
     "name": "stdout",
     "output_type": "stream",
     "text": [
      "Pipeline(memory=None,\n",
      "     steps=[('random_forrest', RandomForestRegressor(bootstrap=True, criterion='mse', max_depth=1,\n",
      "           max_features=4, max_leaf_nodes=None, min_impurity_decrease=0.0,\n",
      "           min_impurity_split=None, min_samples_leaf=1,\n",
      "           min_samples_split=2, min_weight_fraction_leaf=0.0,\n",
      "           n_estimators=1, n_jobs=None, oob_score=False, random_state=None,\n",
      "           verbose=0, warm_start=False))])\n",
      "0.5242752978924291\n",
      "Pipeline(memory=None,\n",
      "     steps=[('random_forrest', RandomForestRegressor(bootstrap=True, criterion='mse', max_depth=1,\n",
      "           max_features=2, max_leaf_nodes=None, min_impurity_decrease=0.0,\n",
      "           min_impurity_split=None, min_samples_leaf=1,\n",
      "           min_samples_split=2, min_weight_fraction_leaf=0.0,\n",
      "           n_estimators=1, n_jobs=None, oob_score=False, random_state=None,\n",
      "           verbose=0, warm_start=False))])\n",
      "0.5256058533586186\n",
      "Pipeline(memory=None,\n",
      "     steps=[('random_forrest', RandomForestRegressor(bootstrap=True, criterion='mse', max_depth=1,\n",
      "           max_features=2, max_leaf_nodes=None, min_impurity_decrease=0.0,\n",
      "           min_impurity_split=None, min_samples_leaf=1,\n",
      "           min_samples_split=2, min_weight_fraction_leaf=0.0,\n",
      "           n_estimators=1, n_jobs=None, oob_score=False, random_state=None,\n",
      "           verbose=0, warm_start=False))])\n",
      "0.5243903893366575\n",
      "Pipeline(memory=None,\n",
      "     steps=[('random_forrest', RandomForestRegressor(bootstrap=True, criterion='mse', max_depth=1,\n",
      "           max_features=3, max_leaf_nodes=None, min_impurity_decrease=0.0,\n",
      "           min_impurity_split=None, min_samples_leaf=1,\n",
      "           min_samples_split=2, min_weight_fraction_leaf=0.0,\n",
      "           n_estimators=1, n_jobs=None, oob_score=False, random_state=None,\n",
      "           verbose=0, warm_start=False))])\n",
      "0.5237730792256998\n",
      "Pipeline(memory=None,\n",
      "     steps=[('random_forrest', RandomForestRegressor(bootstrap=True, criterion='mse', max_depth=1,\n",
      "           max_features=2, max_leaf_nodes=None, min_impurity_decrease=0.0,\n",
      "           min_impurity_split=None, min_samples_leaf=1,\n",
      "           min_samples_split=2, min_weight_fraction_leaf=0.0,\n",
      "           n_estimators=1, n_jobs=None, oob_score=False, random_state=None,\n",
      "           verbose=0, warm_start=False))])\n",
      "0.5243709416011696\n",
      "Pipeline(memory=None,\n",
      "     steps=[('random_forrest', RandomForestRegressor(bootstrap=True, criterion='mse', max_depth=1,\n",
      "           max_features=2, max_leaf_nodes=None, min_impurity_decrease=0.0,\n",
      "           min_impurity_split=None, min_samples_leaf=1,\n",
      "           min_samples_split=2, min_weight_fraction_leaf=0.0,\n",
      "           n_estimators=2, n_jobs=None, oob_score=False, random_state=None,\n",
      "           verbose=0, warm_start=False))])\n",
      "0.5264768327598227\n",
      "Pipeline(memory=None,\n",
      "     steps=[('random_forrest', RandomForestRegressor(bootstrap=True, criterion='mse', max_depth=1,\n",
      "           max_features=2, max_leaf_nodes=None, min_impurity_decrease=0.0,\n",
      "           min_impurity_split=None, min_samples_leaf=1,\n",
      "           min_samples_split=2, min_weight_fraction_leaf=0.0,\n",
      "           n_estimators=1, n_jobs=None, oob_score=False, random_state=None,\n",
      "           verbose=0, warm_start=False))])\n",
      "0.5212180299235175\n",
      "Pipeline(memory=None,\n",
      "     steps=[('random_forrest', RandomForestRegressor(bootstrap=True, criterion='mse', max_depth=1,\n",
      "           max_features=2, max_leaf_nodes=None, min_impurity_decrease=0.0,\n",
      "           min_impurity_split=None, min_samples_leaf=1,\n",
      "           min_samples_split=2, min_weight_fraction_leaf=0.0,\n",
      "           n_estimators=1, n_jobs=None, oob_score=False, random_state=None,\n",
      "           verbose=0, warm_start=False))])\n",
      "0.5218855668937251\n",
      "Pipeline(memory=None,\n",
      "     steps=[('random_forrest', RandomForestRegressor(bootstrap=True, criterion='mse', max_depth=1,\n",
      "           max_features=2, max_leaf_nodes=None, min_impurity_decrease=0.0,\n",
      "           min_impurity_split=None, min_samples_leaf=1,\n",
      "           min_samples_split=2, min_weight_fraction_leaf=0.0,\n",
      "           n_estimators=1, n_jobs=None, oob_score=False, random_state=None,\n",
      "           verbose=0, warm_start=False))])\n",
      "0.5213021951170186\n",
      "Pipeline(memory=None,\n",
      "     steps=[('random_forrest', RandomForestRegressor(bootstrap=True, criterion='mse', max_depth=1,\n",
      "           max_features=2, max_leaf_nodes=None, min_impurity_decrease=0.0,\n",
      "           min_impurity_split=None, min_samples_leaf=1,\n",
      "           min_samples_split=2, min_weight_fraction_leaf=0.0,\n",
      "           n_estimators=1, n_jobs=None, oob_score=False, random_state=None,\n",
      "           verbose=0, warm_start=False))])\n",
      "0.5264693294198495\n"
     ]
    }
   ],
   "source": [
    "estimator_list = [('random_forrest', RandomForestRegressor())]\n",
    "\n",
    "parameter_list = [{\n",
    "                'random_forrest__n_estimators': [1,2,3],\n",
    "                'random_forrest__max_depth': [1,2],\n",
    "                'random_forrest__max_features':[2,3,4],\n",
    "    'random_forrest__min_samples_split':[2],\n",
    "                }]\n",
    "best_model = GridSearchCV(LinearRegression(),{},cv=5)\n",
    "\n",
    "grid = GridSearchCV(estimator=Pipeline(estimator_list), \n",
    "                    param_grid=parameter_list, \n",
    "                   refit=True, \n",
    "                    scoring=make_scorer(mean_squared_error),\n",
    "                    cv=5)\n",
    "rmse_list = []\n",
    "for x in range(10):\n",
    "    if type(train_target) != np.ndarray:\n",
    "        y = train_target.values.ravel()\n",
    "        train_target = np.array(y).astype(float)\n",
    "    best_model = grid.fit(train_data, train_target.ravel())\n",
    "    print(best_model.best_estimator_)\n",
    "    print(sqrt(best_model.score(test_data, test_target)))\n",
    "    rmse_list.append(sqrt(best_model.score(test_data, test_target)))"
   ]
  },
  {
   "cell_type": "code",
   "execution_count": 17,
   "metadata": {},
   "outputs": [
    {
     "name": "stdout",
     "output_type": "stream",
     "text": [
      "10\n"
     ]
    },
    {
     "data": {
      "text/plain": [
       "(array([0., 0., 0., 0., 0., 0., 2., 0., 0., 1., 0., 0., 0., 0., 0., 0., 0.,\n",
       "        0., 1., 0., 0., 3., 0., 0., 0., 0., 0., 1., 0., 0., 0., 0., 2., 0.,\n",
       "        0., 0., 0., 0., 0., 0., 0., 0., 0., 0., 0., 0., 0., 0., 0., 0., 0.,\n",
       "        0., 0., 0., 0., 0., 0., 0., 0., 0., 0., 0., 0., 0., 0., 0., 0., 0.,\n",
       "        0., 0., 0., 0., 0., 0., 0., 0., 0., 0., 0., 0., 0., 0., 0., 0., 0.,\n",
       "        0., 0., 0., 0., 0., 0., 0., 0., 0., 0., 0., 0., 0., 0.]),\n",
       " array([0.52      , 0.52020202, 0.52040404, 0.52060606, 0.52080808,\n",
       "        0.5210101 , 0.52121212, 0.52141414, 0.52161616, 0.52181818,\n",
       "        0.5220202 , 0.52222222, 0.52242424, 0.52262626, 0.52282828,\n",
       "        0.5230303 , 0.52323232, 0.52343434, 0.52363636, 0.52383838,\n",
       "        0.5240404 , 0.52424242, 0.52444444, 0.52464646, 0.52484848,\n",
       "        0.52505051, 0.52525253, 0.52545455, 0.52565657, 0.52585859,\n",
       "        0.52606061, 0.52626263, 0.52646465, 0.52666667, 0.52686869,\n",
       "        0.52707071, 0.52727273, 0.52747475, 0.52767677, 0.52787879,\n",
       "        0.52808081, 0.52828283, 0.52848485, 0.52868687, 0.52888889,\n",
       "        0.52909091, 0.52929293, 0.52949495, 0.52969697, 0.52989899,\n",
       "        0.53010101, 0.53030303, 0.53050505, 0.53070707, 0.53090909,\n",
       "        0.53111111, 0.53131313, 0.53151515, 0.53171717, 0.53191919,\n",
       "        0.53212121, 0.53232323, 0.53252525, 0.53272727, 0.53292929,\n",
       "        0.53313131, 0.53333333, 0.53353535, 0.53373737, 0.53393939,\n",
       "        0.53414141, 0.53434343, 0.53454545, 0.53474747, 0.53494949,\n",
       "        0.53515152, 0.53535354, 0.53555556, 0.53575758, 0.5359596 ,\n",
       "        0.53616162, 0.53636364, 0.53656566, 0.53676768, 0.5369697 ,\n",
       "        0.53717172, 0.53737374, 0.53757576, 0.53777778, 0.5379798 ,\n",
       "        0.53818182, 0.53838384, 0.53858586, 0.53878788, 0.5389899 ,\n",
       "        0.53919192, 0.53939394, 0.53959596, 0.53979798, 0.54      ]),\n",
       " <a list of 99 Patch objects>)"
      ]
     },
     "execution_count": 17,
     "metadata": {},
     "output_type": "execute_result"
    },
    {
     "data": {
      "image/png": "[encoded data removed]",
      "text/plain": [
       "<Figure size 864x432 with 1 Axes>"
      ]
     },
     "metadata": {
      "needs_background": "light"
     },
     "output_type": "display_data"
    }
   ],
   "source": [
    "print(len(rmse_list))\n",
    "plt.figure(figsize=(12, 6))\n",
    "\n",
    "\n",
    "plt.title('RMSE')\n",
    "\n",
    "plt.hist(rmse_list,bins=np.linspace(0.52,0.54,100))\n",
    "\n",
    "#for postfix in ['.png','.pdf']:\n",
    "#    name = 'treeRMSE'+postfix\n",
    "#plt.savefig(name,bbox_inches='tight')"
   ]
  },
  {
   "cell_type": "code",
   "execution_count": 19,
   "metadata": {},
   "outputs": [],
   "source": [
    "from sklearn.ensemble import GradientBoostingRegressor"
   ]
  },
  {
   "cell_type": "code",
   "execution_count": 28,
   "metadata": {},
   "outputs": [
    {
     "name": "stdout",
     "output_type": "stream",
     "text": [
      "0.5345713589257188\n",
      "0.5345550109297954\n",
      "0.5343865058357197\n",
      "0.5345656599945571\n",
      "0.5344218742912026\n",
      "0.5343810930553102\n",
      "0.5343865058357197\n",
      "0.5344170176440549\n",
      "0.5344170176440549\n",
      "0.5345687084805625\n"
     ]
    }
   ],
   "source": [
    "# Fit regression model \n",
    "\n",
    "\n",
    "estimator_list = [('gbr', GradientBoostingRegressor())]\n",
    "\n",
    "parameter_list = [{\n",
    "                'gbr__n_estimators': [1],\n",
    "    'gbr__max_features':[1,3,15]   ,         \n",
    "    'gbr__max_depth': [1,10],\n",
    "                'gbr__learning_rate':[0.01],\n",
    "                'gbr__min_samples_split':[2],\n",
    "                }]\n",
    "best_model = GridSearchCV(LinearRegression(),{},cv=5)\n",
    "rmse_list = []\n",
    "grid = GridSearchCV(estimator=Pipeline(estimator_list), \n",
    "                    param_grid=parameter_list, \n",
    "                    refit=True, \n",
    "                    scoring=make_scorer(mean_squared_error),\n",
    "                    cv=5)\n",
    "for x in range(10):\n",
    "    grid.fit(train_data, train_target)\n",
    "    predicted= grid.predict(test_data)\n",
    "    rmse_lin_reg = sqrt(mean_squared_error(predicted, test_target))\n",
    "    print(rmse_lin_reg)\n",
    "    rmse_list.append(rmse_lin_reg)\n"
   ]
  },
  {
   "cell_type": "code",
   "execution_count": 29,
   "metadata": {},
   "outputs": [
    {
     "data": {
      "text/plain": [
       "(array([3., 2., 1., 0., 0., 0., 0., 0., 0., 4.]),\n",
       " array([0.53438109, 0.53440012, 0.53441915, 0.53443817, 0.5344572 ,\n",
       "        0.53447623, 0.53449525, 0.53451428, 0.53453331, 0.53455233,\n",
       "        0.53457136]),\n",
       " <a list of 10 Patch objects>)"
      ]
     },
     "execution_count": 29,
     "metadata": {},
     "output_type": "execute_result"
    },
    {
     "data": {
      "image/png": "[encoded data removed]",
      "text/plain": [
       "<Figure size 864x432 with 2 Axes>"
      ]
     },
     "metadata": {
      "needs_background": "light"
     },
     "output_type": "display_data"
    }
   ],
   "source": [
    "#print(rmse_list)\n",
    "plt.figure(figsize=(12, 6))\n",
    "\n",
    "\n",
    "plt.subplot(1, 2, 1)\n",
    "plt.title('RMSE')\n",
    "plt.scatter(range(10),rmse_list)\n",
    "plt.subplot(1, 2, 2)\n",
    "plt.title('More RMSE')\n",
    "\n",
    "plt.hist(rmse_list)\n",
    "\n",
    "\n",
    "#for postfix in ['.png','.pdf']:\n",
    "#    name = 'greRMSE'+postfix\n",
    "#plt.savefig(name,bbox_inches='tight')\n"
   ]
  },
  {
   "cell_type": "code",
   "execution_count": null,
   "metadata": {},
   "outputs": [],
   "source": []
  }
 ],
 "metadata": {
  "kernelspec": {
   "display_name": "Python 3",
   "language": "python",
   "name": "python3"
  },
  "language_info": {
   "codemirror_mode": {
    "name": "ipython",
    "version": 3
   },
   "file_extension": ".py",
   "mimetype": "text/x-python",
   "name": "python",
   "nbconvert_exporter": "python",
   "pygments_lexer": "ipython3",
   "version": "3.7.0"
  }
 },
 "nbformat": 4,
 "nbformat_minor": 2
}
