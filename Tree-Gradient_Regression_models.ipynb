{
 "cells": [
  {
   "cell_type": "markdown",
   "metadata": {},
   "source": [
    "# Final Project Check-in 2018-11-16"
   ]
  },
  {
   "cell_type": "markdown",
   "metadata": {},
   "source": [
    "## Group Name: Lambda"
   ]
  },
  {
   "cell_type": "markdown",
   "metadata": {},
   "source": [
    "### Student Names\n",
    "1. Jian Wang\n",
    "2. Chong Geng\n",
    "3. Alan Perry\n",
    "4. Divya Bhargavi\n",
    "5. Robert Sandor"
   ]
  },
  {
   "cell_type": "markdown",
   "metadata": {},
   "source": [
    "## Load Data"
   ]
  },
  {
   "cell_type": "code",
   "execution_count": 1,
   "metadata": {
    "ExecuteTime": {
     "end_time": "2018-12-06T21:12:14.710359Z",
     "start_time": "2018-12-06T21:12:12.658024Z"
    }
   },
   "outputs": [],
   "source": [
    "from collections import defaultdict\n",
    "from math import sqrt\n",
    "from matplotlib import pyplot as plt\n",
    "from scipy.interpolate import UnivariateSpline\n",
    "import pandas as pd\n",
    "import numpy as np\n",
    "import nltk\n",
    "from nltk.stem.porter import PorterStemmer\n",
    "import operator\n",
    "import re\n",
    "from scipy import spatial\n",
    "from sklearn.feature_extraction import stop_words\n",
    "from sklearn.feature_extraction import stop_words\n",
    "from sklearn.feature_extraction.text import TfidfVectorizer\n",
    "from sklearn.svm import SVR\n",
    "from sklearn.linear_model import LinearRegression\n",
    "from sklearn.metrics import mean_squared_error\n",
    "from sklearn.model_selection import train_test_split\n",
    "import string\n",
    "import time"
   ]
  },
  {
   "cell_type": "code",
   "execution_count": 2,
   "metadata": {
    "ExecuteTime": {
     "end_time": "2018-12-06T21:12:17.654033Z",
     "start_time": "2018-12-06T21:12:14.713117Z"
    }
   },
   "outputs": [
    {
     "data": {
      "text/html": [
       "<div>\n",
       "<style scoped>\n",
       "    .dataframe tbody tr th:only-of-type {\n",
       "        vertical-align: middle;\n",
       "    }\n",
       "\n",
       "    .dataframe tbody tr th {\n",
       "        vertical-align: top;\n",
       "    }\n",
       "\n",
       "    .dataframe thead th {\n",
       "        text-align: right;\n",
       "    }\n",
       "</style>\n",
       "<table border=\"1\" class=\"dataframe\">\n",
       "  <thead>\n",
       "    <tr style=\"text-align: right;\">\n",
       "      <th></th>\n",
       "      <th>index</th>\n",
       "      <th>product_uid</th>\n",
       "      <th>product_title</th>\n",
       "      <th>search_term</th>\n",
       "      <th>relevance</th>\n",
       "      <th>id</th>\n",
       "      <th>product_description</th>\n",
       "      <th>cleaned_terms</th>\n",
       "      <th>stemmed_terms</th>\n",
       "      <th>stemmed_title</th>\n",
       "      <th>...</th>\n",
       "      <th>stemmed_terms_in_title</th>\n",
       "      <th>stemmed_terms_in_desc</th>\n",
       "      <th>lemmatized_terms_in_title</th>\n",
       "      <th>lemmatized_terms_in_desc</th>\n",
       "      <th>neighbours_in_title</th>\n",
       "      <th>neighbours_in_desc</th>\n",
       "      <th>search_term_in_attrib</th>\n",
       "      <th>color_in_search_term</th>\n",
       "      <th>min_levenstein_dist_title</th>\n",
       "      <th>min_levenstein_dist_brand</th>\n",
       "    </tr>\n",
       "  </thead>\n",
       "  <tbody>\n",
       "    <tr>\n",
       "      <th>0</th>\n",
       "      <td>0</td>\n",
       "      <td>100001</td>\n",
       "      <td>Simpson Strong-Tie 12-Gauge Angle</td>\n",
       "      <td>angle bracket</td>\n",
       "      <td>3.0</td>\n",
       "      <td>2</td>\n",
       "      <td>Not only do angles make joints stronger, they ...</td>\n",
       "      <td>angle bracket</td>\n",
       "      <td>angl bracket</td>\n",
       "      <td>simpson strong tie gaug angl</td>\n",
       "      <td>...</td>\n",
       "      <td>1.0</td>\n",
       "      <td>1.0</td>\n",
       "      <td>1.0</td>\n",
       "      <td>1.0</td>\n",
       "      <td>0.0</td>\n",
       "      <td>1.0</td>\n",
       "      <td>1</td>\n",
       "      <td>0</td>\n",
       "      <td>10.0</td>\n",
       "      <td>0.001</td>\n",
       "    </tr>\n",
       "  </tbody>\n",
       "</table>\n",
       "<p>1 rows × 30 columns</p>\n",
       "</div>"
      ],
      "text/plain": [
       "   index  product_uid                      product_title    search_term  \\\n",
       "0      0       100001  Simpson Strong-Tie 12-Gauge Angle  angle bracket   \n",
       "\n",
       "   relevance  id                                product_description  \\\n",
       "0        3.0   2  Not only do angles make joints stronger, they ...   \n",
       "\n",
       "   cleaned_terms stemmed_terms                 stemmed_title  \\\n",
       "0  angle bracket  angl bracket  simpson strong tie gaug angl   \n",
       "\n",
       "             ...             stemmed_terms_in_title stemmed_terms_in_desc  \\\n",
       "0            ...                                1.0                   1.0   \n",
       "\n",
       "  lemmatized_terms_in_title lemmatized_terms_in_desc neighbours_in_title  \\\n",
       "0                       1.0                      1.0                 0.0   \n",
       "\n",
       "   neighbours_in_desc  search_term_in_attrib  color_in_search_term  \\\n",
       "0                 1.0                      1                     0   \n",
       "\n",
       "   min_levenstein_dist_title  min_levenstein_dist_brand  \n",
       "0                       10.0                      0.001  \n",
       "\n",
       "[1 rows x 30 columns]"
      ]
     },
     "execution_count": 2,
     "metadata": {},
     "output_type": "execute_result"
    }
   ],
   "source": [
    "modified_train = pd.read_csv('combined.csv', encoding='ISO-8859-1')\n",
    "modified_train.drop(columns=['Unnamed: 0']).head(1)"
   ]
  },
  {
   "cell_type": "markdown",
   "metadata": {},
   "source": [
    "## Fit scikit-learn model"
   ]
  },
  {
   "cell_type": "code",
   "execution_count": 3,
   "metadata": {
    "ExecuteTime": {
     "end_time": "2018-12-06T21:12:17.724923Z",
     "start_time": "2018-12-06T21:12:17.665808Z"
    }
   },
   "outputs": [],
   "source": [
    "# choice 1\n",
    "X_train = modified_train[['clean_length', 'title_length', \n",
    "                          'desc_length', 'clean_terms_in_title', \n",
    "                          'clean_terms_in_desc', 'stemmed_terms_in_title',\n",
    "                          'stemmed_terms_in_desc','lemmatized_terms_in_title',\n",
    "                          'lemmatized_terms_in_desc','neighbours_in_title',\n",
    "                         'neighbours_in_desc','min_levenstein_dist_brand',\n",
    "                          'min_levenstein_dist_title','color_in_search_term',\n",
    "                         'search_term_in_attrib','neighbours_in_desc',\n",
    "                         'neighbours_in_title', 'lemmatized_terms_in_desc',]]\n",
    "y_train = modified_train[['relevance']]"
   ]
  },
  {
   "cell_type": "code",
   "execution_count": 4,
   "metadata": {
    "ExecuteTime": {
     "end_time": "2018-12-06T21:12:18.660398Z",
     "start_time": "2018-12-06T21:12:18.622419Z"
    }
   },
   "outputs": [],
   "source": [
    "# since we can't see the relevancy scores of the test set,\n",
    "# I decided to split the training set \n",
    "train_data, test_data, train_target, test_target = train_test_split(X_train,\n",
    "                                                                        y_train, random_state=42)"
   ]
  },
  {
   "cell_type": "code",
   "execution_count": 5,
   "metadata": {
    "ExecuteTime": {
     "end_time": "2018-12-06T21:12:21.083193Z",
     "start_time": "2018-12-06T21:12:20.991844Z"
    }
   },
   "outputs": [
    {
     "name": "stderr",
     "output_type": "stream",
     "text": [
      "/Library/Frameworks/Python.framework/Versions/3.7/lib/python3.7/site-packages/sklearn/linear_model/base.py:485: RuntimeWarning: internal gelsd driver lwork query error, required iwork dimension not returned. This is likely the result of LAPACK bug 0038, fixed in LAPACK 3.2.2 (released July 21, 2010). Falling back to 'gelss' driver.\n",
      "  linalg.lstsq(X, y)\n"
     ]
    },
    {
     "data": {
      "text/plain": [
       "LinearRegression(copy_X=True, fit_intercept=True, n_jobs=None,\n",
       "         normalize=False)"
      ]
     },
     "execution_count": 5,
     "metadata": {},
     "output_type": "execute_result"
    }
   ],
   "source": [
    "lin_reg_model = LinearRegression()\n",
    "lin_reg_model.fit(train_data, train_target)"
   ]
  },
  {
   "cell_type": "code",
   "execution_count": 6,
   "metadata": {
    "ExecuteTime": {
     "end_time": "2018-12-06T21:12:22.348728Z",
     "start_time": "2018-12-06T21:12:22.331542Z"
    }
   },
   "outputs": [
    {
     "name": "stdout",
     "output_type": "stream",
     "text": [
      "[[2.02337346]\n",
      " [2.19124392]\n",
      " [2.32077374]\n",
      " [2.65426502]\n",
      " [2.69076532]]\n",
      "       relevance\n",
      "13534       3.00\n",
      "29748       2.67\n",
      "20225       2.67\n",
      "5169        2.67\n",
      "49860       2.00\n"
     ]
    }
   ],
   "source": [
    "predicted = lin_reg_model.predict(test_data)\n",
    "print(predicted[:5])\n",
    "print(test_target[:5])"
   ]
  },
  {
   "cell_type": "markdown",
   "metadata": {},
   "source": [
    "## Evaluation Metric"
   ]
  },
  {
   "cell_type": "code",
   "execution_count": 20,
   "metadata": {
    "ExecuteTime": {
     "end_time": "2018-12-06T21:20:29.025598Z",
     "start_time": "2018-12-06T21:20:29.008538Z"
    }
   },
   "outputs": [],
   "source": [
    "# since an RMSE function couldn't be found quickly in the sklearn library,\n",
    "# we just used the MSE function and took the square root of that\n",
    "def rmse_lin_reg(model,x,test_target):\n",
    "    return(sqrt(mean_squared_error(model.predict(x), test_target)))\n",
    "def top_ten_rmse(model,x,test_target):\n",
    "    #convert to numpy arrays\n",
    "    predicted = model.predict(x)\n",
    "    predicted = np.array(predicted)\n",
    "    test_target = np.array(test_target)\n",
    "    #find locations of top ten in predicted\n",
    "    predicted_sort =  np.argsort(predicted)[::-1] #most relavent\n",
    "    \n",
    "    # find rmse of top relevent\n",
    "    rmse_top_ten = np.sqrt(np.mean(np.square(predicted[predicted_sort[:10]] - test_target[predicted_sort[:10]])))\n",
    "    return(rmse_top_ten)\n",
    "\n",
    "# this value is equivalent to rank 1680 on the Kaggle leaderboard for this competition\n",
    "# the benchmark was ~ rank 1681\n",
    "# https://www.kaggle.com/c/home-depot-product-search-relevance/leaderboard\n",
    "#print(f\"{rmse_lin_reg:.4f}\")"
   ]
  },
  {
   "cell_type": "code",
   "execution_count": 8,
   "metadata": {
    "ExecuteTime": {
     "end_time": "2018-12-06T21:12:28.661867Z",
     "start_time": "2018-12-06T21:12:28.644702Z"
    }
   },
   "outputs": [
    {
     "data": {
      "text/plain": [
       "Index(['clean_length', 'title_length', 'desc_length', 'clean_terms_in_title',\n",
       "       'clean_terms_in_desc', 'stemmed_terms_in_title',\n",
       "       'stemmed_terms_in_desc', 'lemmatized_terms_in_title',\n",
       "       'lemmatized_terms_in_desc', 'neighbours_in_title', 'neighbours_in_desc',\n",
       "       'min_levenstein_dist_brand', 'min_levenstein_dist_title',\n",
       "       'color_in_search_term', 'search_term_in_attrib', 'neighbours_in_desc',\n",
       "       'neighbours_in_title', 'lemmatized_terms_in_desc'],\n",
       "      dtype='object')"
      ]
     },
     "execution_count": 8,
     "metadata": {},
     "output_type": "execute_result"
    }
   ],
   "source": [
    "train_data.columns\n"
   ]
  },
  {
   "cell_type": "markdown",
   "metadata": {},
   "source": [
    "Random Forrest"
   ]
  },
  {
   "cell_type": "code",
   "execution_count": 9,
   "metadata": {
    "ExecuteTime": {
     "end_time": "2018-12-06T21:12:33.134484Z",
     "start_time": "2018-12-06T21:12:33.045688Z"
    }
   },
   "outputs": [],
   "source": [
    "import matplotlib.pyplot as plt\n",
    "from sklearn.ensemble import RandomForestRegressor\n",
    "from sklearn.model_selection import GridSearchCV\n",
    "from sklearn.pipeline import Pipeline\n",
    "from sklearn.metrics import mean_squared_error,make_scorer\n",
    "from sklearn.model_selection import cross_val_score"
   ]
  },
  {
   "cell_type": "markdown",
   "metadata": {},
   "source": [
    "make grid object\n",
    "assign variabls \n",
    "plot"
   ]
  },
  {
   "cell_type": "code",
   "execution_count": 51,
   "metadata": {
    "ExecuteTime": {
     "end_time": "2018-12-06T22:03:50.959479Z",
     "start_time": "2018-12-06T22:03:46.852833Z"
    },
    "scrolled": false
   },
   "outputs": [
    {
     "name": "stderr",
     "output_type": "stream",
     "text": [
      "/Library/Frameworks/Python.framework/Versions/3.7/lib/python3.7/site-packages/sklearn/utils/deprecation.py:125: FutureWarning: You are accessing a training score ('mean_train_score'), which will not be available by default any more in 0.21. If you need training scores, please set return_train_score=True\n",
      "  warnings.warn(*warn_args, **warn_kwargs)\n"
     ]
    },
    {
     "data": {
      "image/png": "[encoded data removed]",
      "text/plain": [
       "<Figure size 432x288 with 1 Axes>"
      ]
     },
     "metadata": {
      "needs_background": "light"
     },
     "output_type": "display_data"
    }
   ],
   "source": [
    "estimator_list = [('random_forrest', RandomForestRegressor())]\n",
    "random_forrest__n_estimators=[2]\n",
    "random_forrest__max_depth=range(1,20)\n",
    "parameter_list = [\n",
    "                  {'random_forrest__n_estimators':random_forrest__n_estimators,\n",
    "                   'random_forrest__max_depth': random_forrest__max_depth\n",
    "                  }\n",
    "                ]\n",
    "best_model = GridSearchCV(LinearRegression(),{},cv=5)\n",
    "\n",
    "grid = GridSearchCV(estimator=Pipeline(estimator_list), \n",
    "                    param_grid=parameter_list, \n",
    "                   refit=True, \n",
    "                    scoring=top_ten_rmse,\n",
    "                    cv=2)\n",
    "grid.fit(train_data, np.array(train_target).ravel())\n",
    "\n",
    "mean_test_score = []\n",
    "mean_train_score = []\n",
    "random_forrest__max_depth = []\n",
    "for param in grid.cv_results_['params']:\n",
    "    random_forrest__max_depth.append(param['random_forrest__max_depth'])\n",
    "mean_train_score= grid.cv_results_['mean_train_score']\n",
    "mean_test_score= grid.cv_results_['mean_test_score']\n",
    "\n",
    "_, ax = plt.subplots(1,1)\n",
    "s = UnivariateSpline(random_forrest__max_depth, mean_train_score,s=5)\n",
    "x_train = np.linspace(1, 21, 100)\n",
    "y_train = s(x_train)\n",
    "\n",
    "s = UnivariateSpline(random_forrest__max_depth, mean_test_score,s=5)\n",
    "x_test = np.linspace(1, 21, 100)\n",
    "y_test = s(x_test)\n",
    "ax.scatter(random_forrest__max_depth,mean_train_score,label='Train Error')\n",
    "plt.plot(x_train[:70], y_train[:70])\n",
    "\n",
    "plt.plot(x_test[:70], y_test[:70])\n",
    "ax.scatter(random_forrest__max_depth,mean_test_score,label=\"Test Error\")\n",
    "plt.xlabel('Max Depth')\n",
    "plt.ylabel('RMSE')\n",
    "plt.legend(loc='upper right')\n",
    "plt.savefig('forrest_max_feature_error.png')\n",
    "plt.show()"
   ]
  },
  {
   "cell_type": "code",
   "execution_count": null,
   "metadata": {
    "ExecuteTime": {
     "end_time": "2018-12-06T20:56:12.358623Z",
     "start_time": "2018-12-06T20:56:12.354816Z"
    }
   },
   "outputs": [],
   "source": [
    "make grid\n",
    "assign vriables \n",
    "plot"
   ]
  },
  {
   "cell_type": "code",
   "execution_count": 67,
   "metadata": {
    "ExecuteTime": {
     "end_time": "2018-12-06T22:26:25.801902Z",
     "start_time": "2018-12-06T22:25:37.265435Z"
    },
    "scrolled": false
   },
   "outputs": [
    {
     "name": "stderr",
     "output_type": "stream",
     "text": [
      "/Library/Frameworks/Python.framework/Versions/3.7/lib/python3.7/site-packages/sklearn/utils/deprecation.py:125: FutureWarning: You are accessing a training score ('std_train_score'), which will not be available by default any more in 0.21. If you need training scores, please set return_train_score=True\n",
      "  warnings.warn(*warn_args, **warn_kwargs)\n",
      "/Library/Frameworks/Python.framework/Versions/3.7/lib/python3.7/site-packages/sklearn/utils/deprecation.py:125: FutureWarning: You are accessing a training score ('mean_train_score'), which will not be available by default any more in 0.21. If you need training scores, please set return_train_score=True\n",
      "  warnings.warn(*warn_args, **warn_kwargs)\n"
     ]
    },
    {
     "data": {
      "image/png": "[encoded data removed]",
      "text/plain": [
       "<Figure size 432x288 with 1 Axes>"
      ]
     },
     "metadata": {
      "needs_background": "light"
     },
     "output_type": "display_data"
    }
   ],
   "source": [
    "estimator_list = [('random_forrest', RandomForestRegressor())]\n",
    "random_forrest__max_depth=[2]\n",
    "random_forrest__n_estimators=range(1,151,10)\n",
    "parameter_list = [\n",
    "    \n",
    "              {'random_forrest__n_estimators': random_forrest__n_estimators,\n",
    "                    'random_forrest__max_depth': random_forrest__max_depth}\n",
    "                ]\n",
    "best_model = GridSearchCV(LinearRegression(),{},cv=5)\n",
    "\n",
    "grid = GridSearchCV(estimator=Pipeline(estimator_list), \n",
    "                    param_grid=parameter_list, \n",
    "                   refit=True, \n",
    "                    scoring=top_ten_rmse,\n",
    "                    cv=2)\n",
    "grid.fit(train_data, np.array(train_target).ravel())\n",
    "random_forrest__n_estimators = []\n",
    "std_train_score = []\n",
    "for param in grid.cv_results_['params']:\n",
    "    random_forrest__n_estimators.append(param['random_forrest__n_estimators'])\n",
    "std_train_score= grid.cv_results_['std_train_score']\n",
    "mean_train_score= grid.cv_results_['mean_train_score']\n",
    "std_train_score= grid.cv_results_['std_train_score']\n",
    "mean_test_score= grid.cv_results_['mean_test_score']\n",
    "\n",
    "_, ax = plt.subplots(1,1)\n",
    "s = UnivariateSpline(random_forrest__n_estimators, mean_train_score, s=5)\n",
    "x_train = np.linspace(0, 120, 100)\n",
    "y_train = s(x_train)\n",
    "\n",
    "s = UnivariateSpline(random_forrest__n_estimators, mean_test_score, s=5)\n",
    "x_test = np.linspace(0, 120, 100)\n",
    "y_test = s(x_test)\n",
    "ax.scatter(random_forrest__n_estimators,mean_train_score,label='Train Error')\n",
    "plt.plot(x_train, y_train)\n",
    "ax.scatter(random_forrest__n_estimators,mean_test_score,label=\"Test Error\")\n",
    "plt.plot(x_test, y_test)\n",
    "\n",
    "plt.xlabel('N Estimators')\n",
    "plt.ylabel('RMSE')\n",
    "plt.legend(loc='upper right')\n",
    "plt.savefig('forrest_n_estimator_error.png')\n",
    "plt.show()"
   ]
  },
  {
   "cell_type": "markdown",
   "metadata": {},
   "source": [
    "Make grid Object \n",
    "assign variables\n",
    "graph"
   ]
  },
  {
   "cell_type": "code",
   "execution_count": 65,
   "metadata": {
    "ExecuteTime": {
     "end_time": "2018-12-06T22:24:41.488188Z",
     "start_time": "2018-12-06T22:24:21.524957Z"
    }
   },
   "outputs": [
    {
     "name": "stderr",
     "output_type": "stream",
     "text": [
      "/Library/Frameworks/Python.framework/Versions/3.7/lib/python3.7/site-packages/sklearn/utils/deprecation.py:125: FutureWarning: You are accessing a training score ('mean_train_score'), which will not be available by default any more in 0.21. If you need training scores, please set return_train_score=True\n",
      "  warnings.warn(*warn_args, **warn_kwargs)\n"
     ]
    },
    {
     "data": {
      "image/png": "[encoded data removed]",
      "text/plain": [
       "<Figure size 432x288 with 1 Axes>"
      ]
     },
     "metadata": {
      "needs_background": "light"
     },
     "output_type": "display_data"
    }
   ],
   "source": [
    "estimator_list = [('random_forrest', RandomForestRegressor())]\n",
    "random_forrest__n_estimators=[8]\n",
    "random_forrest__max_depth=range(1,20)\n",
    "parameter_list = [{\n",
    "                'random_forrest__n_estimators':random_forrest__n_estimators ,\n",
    "                'random_forrest__max_depth': random_forrest__max_depth,\n",
    "                'random_forrest__max_features':[4],\n",
    "    'random_forrest__min_samples_split':[2],\n",
    "                }]\n",
    "best_model = GridSearchCV(LinearRegression(),{},cv=2)\n",
    "\n",
    "grid = GridSearchCV(estimator=Pipeline(estimator_list), \n",
    "                    param_grid=parameter_list, \n",
    "                   refit=True, \n",
    "                    scoring=top_ten_rmse,\n",
    "                    cv=5)\n",
    "grid.fit(train_data, np.array(train_target).ravel())\n",
    "\n",
    "random_forrest__max_depth = []\n",
    "std_train_score = []\n",
    "for param in grid.cv_results_['params']:\n",
    "    random_forrest__max_depth.append(param['random_forrest__max_depth'])\n",
    "mean_train_score= grid.cv_results_['mean_train_score']\n",
    "mean_test_score= grid.cv_results_['mean_test_score']\n",
    "    #rmse_list = np.array(rmse_list)\n",
    "    #rmse_list.reshape(2,len(grid.cv_results_['split1_test_score']))\n",
    "s = UnivariateSpline(random_forrest__max_depth, mean_train_score, s=5)\n",
    "x_train = np.linspace(0, 20, 100)\n",
    "y_train = s(x_train)\n",
    "\n",
    "t = UnivariateSpline(random_forrest__max_depth, mean_test_score, s=5)\n",
    "x_test = np.linspace(0, 20, 100)\n",
    "y_test = t(x_test)\n",
    "\n",
    "    \n",
    "    \n",
    "_, ax = plt.subplots(1,1)\n",
    "ax.scatter(random_forrest__max_depth,mean_train_score,label=\"Train Error\")\n",
    "\n",
    "\n",
    "plt.plot(x_train, y_train)\n",
    "\n",
    "plt.plot(x_test, y_test)\n",
    "\n",
    "ax.scatter(random_forrest__max_depth,mean_test_score,label=\"Test Error\")\n",
    "plt.xlabel('Max Depth')\n",
    "plt.ylabel('RMSE')\n",
    "plt.legend(loc='lower left')\n",
    "plt.savefig('forrest_max_depth_error.png')\n",
    "\n",
    "plt.show()"
   ]
  },
  {
   "cell_type": "code",
   "execution_count": null,
   "metadata": {
    "ExecuteTime": {
     "end_time": "2018-12-06T20:56:12.365132Z",
     "start_time": "2018-12-06T20:55:28.677Z"
    }
   },
   "outputs": [],
   "source": [
    "from sklearn.ensemble import GradientBoostingRegressor"
   ]
  },
  {
   "cell_type": "markdown",
   "metadata": {},
   "source": [
    "make grid object"
   ]
  },
  {
   "cell_type": "markdown",
   "metadata": {},
   "source": [
    "Make grid Object"
   ]
  },
  {
   "cell_type": "code",
   "execution_count": null,
   "metadata": {
    "ExecuteTime": {
     "end_time": "2018-12-06T20:56:12.366745Z",
     "start_time": "2018-12-06T20:55:29.896Z"
    }
   },
   "outputs": [],
   "source": [
    "\n",
    "estimator_list = [('gbr', GradientBoostingRegressor())]\n",
    "\n",
    "parameter_list = [{\n",
    "                'gbr__n_estimators': [1],\n",
    "    'gbr__max_features':[7]   ,         \n",
    "    'gbr__max_depth':range(1,20),\n",
    "                'gbr__learning_rate':[0.01],\n",
    "                'gbr__min_samples_split':[2],\n",
    "                }]\n",
    "best_model = GridSearchCV(LinearRegression(),{},cv=5)\n",
    "rmse_list = []\n",
    "grid = GridSearchCV(estimator=Pipeline(estimator_list), \n",
    "                    param_grid=parameter_list, \n",
    "                    refit=True, \n",
    "                    scoring=top_ten_rmse,\n",
    "                    cv=5)\n",
    "grid.fit(train_data, np.array(train_target).ravel())\n",
    "predicted= grid.predict(test_data)\n"
   ]
  },
  {
   "cell_type": "markdown",
   "metadata": {},
   "source": [
    "Assign variables"
   ]
  },
  {
   "cell_type": "code",
   "execution_count": null,
   "metadata": {
    "ExecuteTime": {
     "end_time": "2018-12-06T20:56:12.368367Z",
     "start_time": "2018-12-06T20:55:31.457Z"
    }
   },
   "outputs": [],
   "source": [
    "rmse_list = []\n",
    "random_forrest__max_depth = []\n",
    "random_forrest__max_features = []\n",
    "random_forrest__n_estimators = []\n",
    "std_train_score = []\n",
    "for param in grid.cv_results_['params']:\n",
    "    random_forrest__max_depth.append(param['gbr__max_depth'])\n",
    "    random_forrest__max_features.append(param['gbr__max_features'])\n",
    "    random_forrest__n_estimators.append(param['gbr__n_estimators'])\n",
    "std_train_score= grid.cv_results_['std_train_score']\n",
    "mean_train_score= grid.cv_results_['mean_train_score']\n",
    "std_train_score= grid.cv_results_['std_train_score']\n",
    "mean_test_score= grid.cv_results_['mean_test_score']\n",
    "    #rmse_list = np.array(rmse_list)\n",
    "    #rmse_list.reshape(2,len(grid.cv_results_['split1_test_score']))\n",
    "\n",
    "#print(rmse_list)\n",
    "\n",
    "\n",
    "\n",
    "#for postfix in ['.png','.pdf']:\n",
    "#    name = 'greRMSE'+postfix\n",
    "#plt.savefig(name,bbox_inches='tight')\n"
   ]
  },
  {
   "cell_type": "markdown",
   "metadata": {},
   "source": [
    "graph"
   ]
  },
  {
   "cell_type": "code",
   "execution_count": null,
   "metadata": {
    "ExecuteTime": {
     "end_time": "2018-12-06T20:56:12.369747Z",
     "start_time": "2018-12-06T20:55:33.321Z"
    }
   },
   "outputs": [],
   "source": [
    "plt.figure(figsize=(12, 6))\n",
    "_, ax = plt.subplots(1,1)\n",
    "ax.scatter(random_forrest__max_depth,mean_train_score,label=\"Train Error\")\n",
    "\n",
    "ax.scatter(random_forrest__max_depth,mean_test_score,label=\"Test Error\")\n",
    "s = UnivariateSpline(random_forrest__max_depth, mean_train_score, s=5)\n",
    "x_train = np.linspace(0, 20, 100)\n",
    "y_train = s(x_train)\n",
    "\n",
    "t = UnivariateSpline(random_forrest__max_depth, mean_test_score, s=5)\n",
    "x_test = np.linspace(0, 20, 100)\n",
    "y_test = t(x_test)\n",
    "\n",
    "plt.plot(x_train, y_train)\n",
    "\n",
    "plt.plot(x_test, y_test)\n",
    "\n",
    "plt.xlabel('Max Features')\n",
    "plt.ylabel('RMSE')\n",
    "plt.legend(loc='lower left')\n",
    "plt.savefig('GBR_max_depth_error.png')\n",
    "\n",
    "plt.show()"
   ]
  },
  {
   "cell_type": "code",
   "execution_count": null,
   "metadata": {},
   "outputs": [],
   "source": []
  },
  {
   "cell_type": "code",
   "execution_count": null,
   "metadata": {},
   "outputs": [],
   "source": []
  }
 ],
 "metadata": {
  "kernelspec": {
   "display_name": "Python 3",
   "language": "python",
   "name": "python3"
  },
  "language_info": {
   "codemirror_mode": {
    "name": "ipython",
    "version": 3
   },
   "file_extension": ".py",
   "mimetype": "text/x-python",
   "name": "python",
   "nbconvert_exporter": "python",
   "pygments_lexer": "ipython3",
   "version": "3.7.0"
  }
 },
 "nbformat": 4,
 "nbformat_minor": 2
}
