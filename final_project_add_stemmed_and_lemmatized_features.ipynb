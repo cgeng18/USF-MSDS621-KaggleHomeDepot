{
 "cells": [
  {
   "cell_type": "markdown",
   "metadata": {},
   "source": [
    "# Final Project Check-in 2018-11-16"
   ]
  },
  {
   "cell_type": "markdown",
   "metadata": {},
   "source": [
    "## Group Name: Lambda"
   ]
  },
  {
   "cell_type": "markdown",
   "metadata": {},
   "source": [
    "### Student Names\n",
    "1. Jian Wang\n",
    "2. Chong Geng\n",
    "3. Alan Perry\n",
    "4. Divya Bhargavi\n",
    "5. Robert Sandor"
   ]
  },
  {
   "cell_type": "markdown",
   "metadata": {},
   "source": [
    "## Load Data"
   ]
  },
  {
   "cell_type": "code",
   "execution_count": 1,
   "metadata": {},
   "outputs": [],
   "source": [
    "from collections import defaultdict\n",
    "from math import sqrt\n",
    "from matplotlib import pyplot as plt\n",
    "import pandas as pd\n",
    "import numpy as np\n",
    "import nltk\n",
    "from nltk.stem.porter import PorterStemmer\n",
    "import operator\n",
    "import re\n",
    "from scipy import spatial\n",
    "from sklearn.feature_extraction import stop_words\n",
    "from sklearn.feature_extraction import stop_words\n",
    "from sklearn.feature_extraction.text import TfidfVectorizer\n",
    "from sklearn.svm import SVR\n",
    "from sklearn.linear_model import LinearRegression\n",
    "from sklearn.metrics import mean_squared_error\n",
    "from sklearn.model_selection import train_test_split\n",
    "import string\n",
    "import time"
   ]
  },
  {
   "cell_type": "code",
   "execution_count": 2,
   "metadata": {},
   "outputs": [],
   "source": [
    "def make_dictionary(file):\n",
    "    '''\n",
    "    Initiate the glove model as a dictionary\n",
    "    input: A String which is a file in the project directory\n",
    "    returns: A dictionary with item = word : 300 d list\n",
    "    \n",
    "    :param file:            the filepath string of the dictionary\n",
    "    :returns:               a dictionary with words as keys \n",
    "                            and 300d vectors as values\n",
    "    '''\n",
    "    vecs = defaultdict(lambda: np.zeros(shape=(300,1)))\n",
    "    with open(file) as f:\n",
    "        lines = f.readlines()\n",
    "        for word_and_vec in lines:\n",
    "            elems = word_and_vec.strip().split(' ')\n",
    "            word = elems[0]\n",
    "            vec = np.array(elems[1:], dtype=float)\n",
    "            vecs[word] = vec\n",
    "    return vecs"
   ]
  },
  {
   "cell_type": "code",
   "execution_count": 3,
   "metadata": {},
   "outputs": [],
   "source": [
    "def split_dictionary():\n",
    "    \"\"\"\n",
    "    firstly, I split the dictionary into a wordlist and a matrix.\n",
    "    returns a list of words and \n",
    "    a 2d matrix of the normalized word vectors\n",
    "    \n",
    "    :returns:               the words and matrix associated with\n",
    "                            the glove dictionary\n",
    "    \"\"\"\n",
    "    wordlist = []\n",
    "    matrix = []\n",
    "    with open(glove_file) as f:\n",
    "        lines = f.readlines()\n",
    "        for word_and_vec in lines:\n",
    "            wordvec = np.array([float(x) for x in word_and_vec.split()[1:]])    \n",
    "            matrix.append(wordvec / np.linalg.norm(wordvec))\n",
    "            wordlist.append(word_and_vec.split()[0])\n",
    "        matrix = np.array(matrix)\n",
    "    return wordlist, matrix\n",
    "\n",
    "def unique_words(train_df):\n",
    "    \"\"\"\n",
    "    I then obtain the unique words that appear in the search_term.\n",
    "    \n",
    "    :param train_df:        the training set Pandas dataframe\n",
    "    :returns:               a list of unique words from search terms\n",
    "                            that have been stripped of numbers, symbols, etc.\n",
    "    \"\"\"\n",
    "    cleaned = list(train_df['cleaned_terms'])\n",
    "    all_words = []\n",
    "    for t in cleaned:\n",
    "        all_words += t.split(' ')\n",
    "\n",
    "    return list(set(all_words))[1:]\n",
    "\n",
    "def find_nearest_neighbors(filename, cleaned_set, matrix, wordlist, dictionary):\n",
    "    \"\"\"\n",
    "    here I count the cos_distance of each word that is in the cleaned_set.\n",
    "    the output file looks like (each line): w0, w1, w2, w3, w4,\n",
    "    i didn't print the distance, just the neighbour words\n",
    "    this will take couple of minutes.\n",
    "    \n",
    "    :param filename:        a string representing the filename to write to\n",
    "    :param clenaed_set:     a list of search terms that have \n",
    "                            been stripped of numbers, symbols, etc.\n",
    "    :param matrix:          a 2d Numpy array of the word vectors in wordlist\n",
    "    :param wordlist:        a list of words from the glove dictionary\n",
    "    :param dictionary:      a dictionary with words as keys \n",
    "                            and 300d vectors as values\n",
    "    \"\"\" \n",
    "    output_string = ''\n",
    "    \n",
    "    for word in cleaned_set:\n",
    "        dots = matrix.dot(dictionary[word])\n",
    "        close_index_vec = np.argsort(dots)\n",
    "        for i in range(5):\n",
    "            output_string += wordlist[int(close_index_vec[-1-i])] + ','\n",
    "        output_string += '\\n'\n",
    "        \n",
    "    f = open(filename, \"w\")\n",
    "    f.write(output_string)\n",
    "    f.close()\n",
    "\n",
    "def get_all_terms_neighbors(dictionary, cleaned):\n",
    "    \"\"\"\n",
    "    terms_neighbour is the list which stores the top 4 neighbours of each searching_terms. \n",
    "    for example, if the searching term is: cleaned[0]='w1_w2', \n",
    "    then the terms_neighbour[0]='n11_n12_n13_n14_n21_n22_n23_n24'.\n",
    "    \n",
    "    :param dictionary:      a dictionary\n",
    "    :param cleaned:         a list of search terms that have\n",
    "                            been stripped of numbers, symbols, etc.\n",
    "    :returns:               a list of concatenated words that are neighbors\n",
    "                            of the 'cleaned' terms\n",
    "    \"\"\"\n",
    "    terms_neighbour = []\n",
    "    for i in range(len(cleaned)):\n",
    "        neighbours = ''\n",
    "        if cleaned[i] != '':\n",
    "            words = cleaned[i].split(' ')\n",
    "            for w in words:\n",
    "                neighbours = neighbours + dictionary[w] + ' '\n",
    "        terms_neighbour.append(neighbours)\n",
    "    return terms_neighbour\n",
    "\n",
    "def build_dictionary(file):\n",
    "    \"\"\"\n",
    "    based on the above output file, I then built a dictionary;\n",
    "    this dictionary stores each word (as key) with its top 4 neighbour words (as value) \n",
    "    \n",
    "    :param file:            the file containing the list of strings of neighbors\n",
    "    :returns:               a dictionary with words as keys \n",
    "                            and 4 neighbors of that word as values\n",
    "    \"\"\"\n",
    "    k_dic = defaultdict(lambda: '')\n",
    "    with open(file) as f:\n",
    "        lines = f.readlines()\n",
    "        for line in lines:\n",
    "            words = line.strip().split(',')\n",
    "            k_dic[words[0]] = words[1] + ' ' + words[2] + ' ' + words[3] + ' ' + words[4]\n",
    "    return k_dic\n",
    "\n",
    "def clean_term_in_doc(terms, title):\n",
    "    \"\"\"\n",
    "    This cleans the given terms in the specified document\n",
    "    \n",
    "    :param terms:           a list of unique search terms\n",
    "    :param title:           a list of titles of products\n",
    "    :return:                a list of the counts of the \n",
    "                            cleaned terms within a product's title\n",
    "    \"\"\"\n",
    "    count = np.zeros(len(terms))\n",
    "    for i in range(len(terms)):\n",
    "        if not pd.isnull(terms[i]): \n",
    "            title[i] = title[i].lower()\n",
    "            for term in terms[i].split(' '):\n",
    "                if term in title[i].split(' '):\n",
    "                    count[i] += 1\n",
    "    return count\n",
    "\n",
    "def get_length(column):\n",
    "    \"\"\"\n",
    "    This calculates and returns the number of words\n",
    "    for each row in a specified column\n",
    "    \n",
    "    :param column:          the feature/attribute which\n",
    "                            will have its words counted\n",
    "    :returns:               a column with the count of \n",
    "                            words in each string\n",
    "    \"\"\"\n",
    "    length = np.zeros(len(column))\n",
    "    for index in range(len(column)):\n",
    "        if not pd.isnull(column[index]):\n",
    "            length[index] = len(column[index].split(' '))\n",
    "    return length\n",
    "\n",
    "def tokenize(text):\n",
    "    \"\"\"\n",
    "    Tokenize text and return a non-unique list of tokenized words\n",
    "    found in the text. Normalize to lowercase, strip punctuation,\n",
    "    remove stop words, drop words of length < 3, strip digits.\n",
    "    \n",
    "    :param text:            a string\n",
    "    :returns:               the same string stripped of numbers,\n",
    "                            tabs, newline characters, and punctuation\n",
    "    \"\"\"\n",
    "    stops = list(stop_words.ENGLISH_STOP_WORDS)\n",
    "    text = text.lower()\n",
    "    regex = re.compile('[' + re.escape(string.punctuation) + '0-9\\\\r\\\\t\\\\n]')\n",
    "    nopunct = regex.sub(\" \", text)  # delete stuff but leave at least a space to avoid clumping together\n",
    "    words = nopunct.split(\" \")\n",
    "    words = [w for w in words if (len(w) > 2 and (w not in stops))]  # ignore a, an, to, at, be, ...\n",
    "    return words\n",
    "\n",
    "def stemmed(words):\n",
    "    \"\"\"\n",
    "    Stem a tokenized text and return a non-unique list of stemmed words\n",
    "    found in the text. This is based on the output of function\n",
    "    tokenize(text).\n",
    "    \n",
    "    :param text:            a list of tokenized words\n",
    "    :returns:               a list of stemmed words\n",
    "    \"\"\"\n",
    "    stemmer = PorterStemmer()\n",
    "    stemmed_words = [stemmer.stem(w) for w in words]\n",
    "    return stemmed_words\n",
    "\n",
    "\n",
    "def lemmatized(words):\n",
    "    \"\"\"\n",
    "    lemmatize a tokenized text and return a non-unique list of stemmed words\n",
    "    found in the text. This is based on the output of function\n",
    "    tokenize(text).\n",
    "    \n",
    "    :param text:            a list of tokenized words\n",
    "    :returns:               a list of lemmatized words\n",
    "    \"\"\"\n",
    "    lemmatized_words = [nltk.stem.WordNetLemmatizer().lemmatize(w) for w in words]\n",
    "    return lemmatized_words\n"
   ]
  },
  {
   "cell_type": "code",
   "execution_count": 10,
   "metadata": {},
   "outputs": [],
   "source": [
    "def feature_engineering(train_df, products_df, dictionary):\n",
    "    \"\"\"\n",
    "    Adds the following features to the training set dataframe: \n",
    "    * clean_length: the count of words in the 'cleaned' search terms\n",
    "    * title_length: the count of words in the 'cleaned' title\n",
    "    * desc_length: the count of words in the 'cleaned' description\n",
    "    * clean_terms_in_title: the number of time \n",
    "    any of the words in clean_terms appears in the title\n",
    "    * clean_terms_in_desc: the number of time \n",
    "    any of the words in clean_terms appears in the description\n",
    "    * neighbours_in_title: the count of the appearance of the \n",
    "    words closest to the search terms in the title\n",
    "    * neighbours_in_desc: the count of the appearance of the \n",
    "    words closest to the search terms in the description\n",
    "    \n",
    "    :param train_df:        the training set Pandas dataframe\n",
    "    :param products_df:     the product descriptions dataframe\n",
    "    :param dictionary:      the glove dictionary\n",
    "    :returns:               the modified dataframe with the additional features\n",
    "    \"\"\"\n",
    "    # join the dataframes together\n",
    "    train_df = train_df.set_index('product_uid').join(products_df.set_index('product_uid'))\n",
    "    train_df = train_df.reset_index()\n",
    "    \n",
    "    # \"clean\" the search terms of numbers and stop words\n",
    "    search_terms = train_df['search_term']\n",
    "    cleaned_terms = [' '.join(tokenize(search_term)) for search_term in search_terms]\n",
    "    train_df['cleaned_terms'] = cleaned_terms\n",
    "    \n",
    "    cleaned = list(train_df['cleaned_terms'])\n",
    "    title = list(train_df['product_title'])\n",
    "    desc = list(train_df['product_description'])\n",
    "    \n",
    "    # stem the search terms, title, and descriptions\n",
    "    stemmed_terms = [' '.join(stemmed(tokenize(search_term))) for search_term in search_terms]\n",
    "    stemmed_title = [' '.join(stemmed(tokenize(t))) for t in train_df['product_title']]\n",
    "    stemmed_desc = [' '.join(stemmed(tokenize(d))) for d in train_df['product_description']]\n",
    "    \n",
    "    train_df['stemmed_terms'] = stemmed_terms\n",
    "    train_df['stemmed_title'] = stemmed_title\n",
    "    train_df['stemmed_desc'] = stemmed_desc\n",
    "    \n",
    "    stemmed_terms = list(train_df['stemmed_terms'])\n",
    "    stemmed_title = list(train_df['stemmed_title'])\n",
    "    stemmed_desc = list(train_df['stemmed_desc'])\n",
    "    \n",
    "    # lemmatize the search terms, title, and descriptions\n",
    "    lemmatized_terms = [' '.join(lemmatized(tokenize(search_term))) for search_term in search_terms]\n",
    "    lemmatized_title = [' '.join(lemmatized(tokenize(t))) for t in train_df['product_title']]\n",
    "    lemmatized_desc = [' '.join(lemmatized(tokenize(d))) for d in train_df['product_description']]\n",
    "    \n",
    "    train_df['lemmatized_terms'] = lemmatized_terms\n",
    "    train_df['lemmatized_title'] = lemmatized_title\n",
    "    train_df['lemmatized_desc'] = lemmatized_desc\n",
    "    \n",
    "    lemmatized_terms = list(train_df['lemmatized_terms'])\n",
    "    lemmatized_title = list(train_df['lemmatized_title'])\n",
    "    lemmatized_desc = list(train_df['lemmatized_desc'])\n",
    "    \n",
    "    # set up the calculations for finding the nearest neighbors\n",
    "    wordlist, matrix = split_dictionary()\n",
    "    cleaned_set = unique_words(train_df)\n",
    "    find_nearest_neighbors('glove_neighbour_no_w.txt', cleaned_set, matrix, wordlist, dictionary)\n",
    "    k_dict = build_dictionary('glove_neighbour_no_w.txt')\n",
    "    terms_neighbour = get_all_terms_neighbors(k_dict, cleaned)\n",
    "    train_df['terms_neighbour'] = terms_neighbour\n",
    "    \n",
    "    # create the features to be used in the model\n",
    "    train_df['clean_length'] = get_length(cleaned)\n",
    "    train_df['title_length'] = get_length(title)\n",
    "    train_df['desc_length'] = get_length(desc)\n",
    "    train_df['clean_terms_in_title'] = clean_term_in_doc(cleaned, title)\n",
    "    train_df['clean_terms_in_desc'] = clean_term_in_doc(cleaned, desc)\n",
    "    train_df['stemmed_terms_in_title'] = clean_term_in_doc(stemmed_terms, stemmed_title)\n",
    "    train_df['stemmed_terms_in_desc'] = clean_term_in_doc(stemmed_terms, stemmed_desc)\n",
    "    train_df['lemmatized_terms_in_title'] = clean_term_in_doc(lemmatized_terms, lemmatized_title)\n",
    "    train_df['lemmatized_terms_in_desc'] = clean_term_in_doc(lemmatized_terms, lemmatized_desc)\n",
    "    train_df['neighbours_in_title'] = clean_term_in_doc(terms_neighbour, title)\n",
    "    train_df['neighbours_in_desc'] = clean_term_in_doc(terms_neighbour, desc)\n",
    "    \n",
    "    return train_df"
   ]
  },
  {
   "cell_type": "code",
   "execution_count": 11,
   "metadata": {},
   "outputs": [],
   "source": [
    "products = pd.read_csv('product_descriptions.csv')\n",
    "train = pd.read_csv('train.csv', encoding='ISO-8859-1')"
   ]
  },
  {
   "cell_type": "code",
   "execution_count": 7,
   "metadata": {},
   "outputs": [],
   "source": [
    "glove_file = 'glove.6B.300d.txt'\n",
    "glove_dic = make_dictionary(glove_file)"
   ]
  },
  {
   "cell_type": "code",
   "execution_count": 12,
   "metadata": {},
   "outputs": [],
   "source": [
    "modified_train = feature_engineering(train, products, glove_dic)"
   ]
  },
  {
   "cell_type": "markdown",
   "metadata": {},
   "source": [
    "## Fit scikit-learn model"
   ]
  },
  {
   "cell_type": "code",
   "execution_count": 13,
   "metadata": {},
   "outputs": [],
   "source": [
    "# choice 1\n",
    "X_train = modified_train[['clean_length', 'title_length', \n",
    "                          'desc_length', 'clean_terms_in_title', \n",
    "                          'clean_terms_in_desc', 'stemmed_terms_in_title',\n",
    "                          'stemmed_terms_in_desc','lemmatized_terms_in_title',\n",
    "                          'lemmatized_terms_in_desc','neighbours_in_title',\n",
    "                         'neighbours_in_desc']]\n",
    "y_train = modified_train[['relevance']]"
   ]
  },
  {
   "cell_type": "code",
   "execution_count": 18,
   "metadata": {},
   "outputs": [],
   "source": [
    "# choice 2\n",
    "X_train = modified_train[['clean_length', 'title_length', \n",
    "                          'desc_length', 'clean_terms_in_title', \n",
    "                          'clean_terms_in_desc','neighbours_in_title',\n",
    "                         'neighbours_in_desc']]\n",
    "y_train = modified_train[['relevance']]"
   ]
  },
  {
   "cell_type": "code",
   "execution_count": 23,
   "metadata": {},
   "outputs": [],
   "source": [
    "# choice 3\n",
    "X_train = modified_train[['clean_length', 'title_length', \n",
    "                          'desc_length', 'stemmed_terms_in_title',\n",
    "                          'stemmed_terms_in_desc','neighbours_in_title',\n",
    "                         'neighbours_in_desc']]\n",
    "y_train = modified_train[['relevance']]"
   ]
  },
  {
   "cell_type": "code",
   "execution_count": 28,
   "metadata": {},
   "outputs": [],
   "source": [
    "# choice 4\n",
    "X_train = modified_train[['clean_length', 'title_length', \n",
    "                          'desc_length', 'lemmatized_terms_in_title',\n",
    "                          'lemmatized_terms_in_desc','neighbours_in_title',\n",
    "                         'neighbours_in_desc']]\n",
    "y_train = modified_train[['relevance']]"
   ]
  },
  {
   "cell_type": "code",
   "execution_count": 29,
   "metadata": {},
   "outputs": [],
   "source": [
    "# since we can't see the relevancy scores of the test set,\n",
    "# I decided to split the training set \n",
    "train_data, test_data, train_target, test_target = train_test_split(X_train,\n",
    "                                                                        y_train, random_state=42)"
   ]
  },
  {
   "cell_type": "code",
   "execution_count": 30,
   "metadata": {},
   "outputs": [
    {
     "data": {
      "text/plain": [
       "LinearRegression(copy_X=True, fit_intercept=True, n_jobs=None,\n",
       "         normalize=False)"
      ]
     },
     "execution_count": 30,
     "metadata": {},
     "output_type": "execute_result"
    }
   ],
   "source": [
    "lin_reg_model = LinearRegression()\n",
    "lin_reg_model.fit(train_data, train_target)"
   ]
  },
  {
   "cell_type": "code",
   "execution_count": 31,
   "metadata": {},
   "outputs": [
    {
     "name": "stdout",
     "output_type": "stream",
     "text": [
      "[[2.03628912]\n",
      " [2.24501342]\n",
      " [2.32567038]\n",
      " [2.64512307]\n",
      " [2.6883504 ]]\n",
      "       relevance\n",
      "13534       3.00\n",
      "29748       2.67\n",
      "20225       2.67\n",
      "5169        2.67\n",
      "49860       2.00\n"
     ]
    }
   ],
   "source": [
    "predicted = lin_reg_model.predict(test_data)\n",
    "print(predicted[:5])\n",
    "print(test_target[:5])"
   ]
  },
  {
   "cell_type": "markdown",
   "metadata": {},
   "source": [
    "## Evaluation Metric"
   ]
  },
  {
   "cell_type": "code",
   "execution_count": 32,
   "metadata": {},
   "outputs": [
    {
     "name": "stdout",
     "output_type": "stream",
     "text": [
      "0.5014\n"
     ]
    }
   ],
   "source": [
    "# since an RMSE function couldn't be found quickly in the sklearn library,\n",
    "# we just used the MSE function and took the square root of that\n",
    "rmse_lin_reg = sqrt(mean_squared_error(predicted, test_target))\n",
    "\n",
    "# this value is equivalent to rank 1680 on the Kaggle leaderboard for this competition\n",
    "# the benchmark was ~ rank 1681\n",
    "# https://www.kaggle.com/c/home-depot-product-search-relevance/leaderboard\n",
    "print(f\"{rmse_lin_reg:.4f}\")"
   ]
  }
 ],
 "metadata": {
  "kernelspec": {
   "display_name": "Python 3",
   "language": "python",
   "name": "python3"
  },
  "language_info": {
   "codemirror_mode": {
    "name": "ipython",
    "version": 3
   },
   "file_extension": ".py",
   "mimetype": "text/x-python",
   "name": "python",
   "nbconvert_exporter": "python",
   "pygments_lexer": "ipython3",
   "version": "3.6.6"
  }
 },
 "nbformat": 4,
 "nbformat_minor": 2
}
