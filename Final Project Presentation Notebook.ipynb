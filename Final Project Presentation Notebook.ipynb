{
 "cells": [
  {
   "cell_type": "markdown",
   "metadata": {},
   "source": [
    "# Final Project - Presentation Version"
   ]
  },
  {
   "cell_type": "markdown",
   "metadata": {},
   "source": [
    "## Group Name: Lambda"
   ]
  },
  {
   "cell_type": "markdown",
   "metadata": {},
   "source": [
    "### Student Names\n",
    "1. Jian Wang\n",
    "2. Chong Geng\n",
    "3. Alan Perry\n",
    "4. Divya Bhargavi\n",
    "5. Robert Sandor"
   ]
  },
  {
   "cell_type": "markdown",
   "metadata": {},
   "source": [
    "## Feature Engineering"
   ]
  },
  {
   "cell_type": "markdown",
   "metadata": {},
   "source": [
    "One of the major tasks of this project was to generate numerical features based upon the text we were provided. After doing some research, we decided upon a number of features that we thought might work."
   ]
  },
  {
   "cell_type": "code",
   "execution_count": 1,
   "metadata": {
    "ExecuteTime": {
     "end_time": "2018-12-13T21:19:26.006281Z",
     "start_time": "2018-12-13T21:19:24.330802Z"
    }
   },
   "outputs": [
    {
     "name": "stderr",
     "output_type": "stream",
     "text": [
      "/Users/robertsandor/anaconda3/lib/python3.7/site-packages/sklearn/ensemble/weight_boosting.py:29: DeprecationWarning: numpy.core.umath_tests is an internal NumPy module and should not be imported. It will be removed in a future NumPy release.\n",
      "  from numpy.core.umath_tests import inner1d\n"
     ]
    }
   ],
   "source": [
    "from Feature_Engineering.feature_engineering import *"
   ]
  },
  {
   "cell_type": "code",
   "execution_count": 2,
   "metadata": {
    "ExecuteTime": {
     "end_time": "2018-12-13T21:20:36.156248Z",
     "start_time": "2018-12-13T21:20:33.240362Z"
    }
   },
   "outputs": [],
   "source": [
    "products = pd.read_csv('Data/product_descriptions.csv')\n",
    "train = pd.read_csv('Data/train.csv', encoding='ISO-8859-1')\n",
    "attributes = pd.read_csv('Data/attributes.csv', encoding='ISO-8859-1')"
   ]
  },
  {
   "cell_type": "code",
   "execution_count": 3,
   "metadata": {
    "ExecuteTime": {
     "end_time": "2018-12-13T21:23:17.656967Z",
     "start_time": "2018-12-13T21:20:36.158292Z"
    }
   },
   "outputs": [],
   "source": [
    "# BEWARE: this takes ~2.5 min to run\n",
    "attrib_per_product = attrib_stack(attributes)"
   ]
  },
  {
   "cell_type": "code",
   "execution_count": 4,
   "metadata": {
    "ExecuteTime": {
     "end_time": "2018-12-13T21:23:27.417625Z",
     "start_time": "2018-12-13T21:23:17.659454Z"
    }
   },
   "outputs": [],
   "source": [
    "train, attrib_per_product = join_attrib(train, attrib_per_product)\n",
    "train = search_term_in_attrib(train)"
   ]
  },
  {
   "cell_type": "code",
   "execution_count": 5,
   "metadata": {
    "ExecuteTime": {
     "end_time": "2018-12-13T21:25:46.289292Z",
     "start_time": "2018-12-13T21:23:27.419700Z"
    }
   },
   "outputs": [],
   "source": [
    "# BEWARE: this takes ~4 min to run\n",
    "train = color_df(attributes, train)\n",
    "train = search_title_lev_dist(train)"
   ]
  },
  {
   "cell_type": "code",
   "execution_count": 6,
   "metadata": {
    "ExecuteTime": {
     "end_time": "2018-12-13T21:26:10.454340Z",
     "start_time": "2018-12-13T21:25:46.292011Z"
    }
   },
   "outputs": [],
   "source": [
    "train = search_brand_lev_dist(train, attributes)"
   ]
  },
  {
   "cell_type": "code",
   "execution_count": 7,
   "metadata": {
    "ExecuteTime": {
     "end_time": "2018-12-13T21:26:10.521965Z",
     "start_time": "2018-12-13T21:26:10.456410Z"
    }
   },
   "outputs": [],
   "source": [
    "train_temp = train.drop(['id', 'name', 'value', 'search_term_split',\n",
    "                         'color', 'product_title_clean', 'brand'], axis=1)"
   ]
  },
  {
   "cell_type": "code",
   "execution_count": 8,
   "metadata": {
    "ExecuteTime": {
     "end_time": "2018-12-13T21:26:40.801903Z",
     "start_time": "2018-12-13T21:26:10.524258Z"
    }
   },
   "outputs": [],
   "source": [
    "glove_file = 'Data/glove.6B.300d.txt'\n",
    "glove_dic = make_dictionary(glove_file)"
   ]
  },
  {
   "cell_type": "code",
   "execution_count": 9,
   "metadata": {
    "ExecuteTime": {
     "end_time": "2018-12-13T21:26:41.141678Z",
     "start_time": "2018-12-13T21:26:40.803904Z"
    }
   },
   "outputs": [],
   "source": [
    "modified_train = train.set_index('product_uid').join(\n",
    "        products.set_index('product_uid'))\n",
    "modified_train = modified_train.reset_index()"
   ]
  },
  {
   "cell_type": "code",
   "execution_count": 19,
   "metadata": {
    "ExecuteTime": {
     "end_time": "2018-12-03T03:13:39.992282Z",
     "start_time": "2018-12-03T02:47:25.832054Z"
    }
   },
   "outputs": [],
   "source": [
    "# BEWARE: this takes ~26 min to run\n",
    "# modified_train = feature_engineering(train, products, glove_dic)"
   ]
  },
  {
   "cell_type": "code",
   "execution_count": 10,
   "metadata": {
    "ExecuteTime": {
     "end_time": "2018-12-13T21:26:42.998106Z",
     "start_time": "2018-12-13T21:26:41.144341Z"
    }
   },
   "outputs": [],
   "source": [
    "modified_train = createCleanedTermsCol(modified_train)"
   ]
  },
  {
   "cell_type": "code",
   "execution_count": 14,
   "metadata": {
    "ExecuteTime": {
     "end_time": "2018-12-13T21:42:50.935640Z",
     "start_time": "2018-12-13T21:39:11.261397Z"
    }
   },
   "outputs": [],
   "source": [
    "# BEWARE: this takes ~3.75 min to run\n",
    "modified_train = createStemmedCols(modified_train)"
   ]
  },
  {
   "cell_type": "code",
   "execution_count": 15,
   "metadata": {
    "ExecuteTime": {
     "end_time": "2018-12-13T21:44:13.472556Z",
     "start_time": "2018-12-13T21:42:50.938347Z"
    }
   },
   "outputs": [],
   "source": [
    "modified_train = createLemmatizedCols(modified_train)"
   ]
  },
  {
   "cell_type": "code",
   "execution_count": 11,
   "metadata": {
    "ExecuteTime": {
     "end_time": "2018-12-13T21:39:07.913218Z",
     "start_time": "2018-12-13T21:26:43.000330Z"
    }
   },
   "outputs": [],
   "source": [
    "# BEWARE: this takes 12.5 min to run\n",
    "modified_train = findNeighborsInCorpus(modified_train, glove_dic, glove_file)"
   ]
  },
  {
   "cell_type": "code",
   "execution_count": 12,
   "metadata": {
    "ExecuteTime": {
     "end_time": "2018-12-13T21:39:08.783728Z",
     "start_time": "2018-12-13T21:39:07.915204Z"
    }
   },
   "outputs": [],
   "source": [
    "modified_train = createLengthCols(modified_train)"
   ]
  },
  {
   "cell_type": "code",
   "execution_count": 13,
   "metadata": {
    "ExecuteTime": {
     "end_time": "2018-12-13T21:39:11.259143Z",
     "start_time": "2018-12-13T21:39:08.787017Z"
    }
   },
   "outputs": [],
   "source": [
    "modified_train = findCleanedTermsInCorpusCols(modified_train)"
   ]
  },
  {
   "cell_type": "code",
   "execution_count": 16,
   "metadata": {
    "ExecuteTime": {
     "end_time": "2018-12-13T21:44:15.186440Z",
     "start_time": "2018-12-13T21:44:13.475126Z"
    }
   },
   "outputs": [],
   "source": [
    "modified_train = findStemmedTermsInCorpusCols(modified_train)"
   ]
  },
  {
   "cell_type": "code",
   "execution_count": 17,
   "metadata": {
    "ExecuteTime": {
     "end_time": "2018-12-13T21:44:16.876125Z",
     "start_time": "2018-12-13T21:44:15.188663Z"
    }
   },
   "outputs": [],
   "source": [
    "modified_train = findLemmatizedTermsInCorpusCols(modified_train)"
   ]
  },
  {
   "cell_type": "code",
   "execution_count": 18,
   "metadata": {
    "ExecuteTime": {
     "end_time": "2018-12-13T21:44:19.396157Z",
     "start_time": "2018-12-13T21:44:16.877866Z"
    }
   },
   "outputs": [],
   "source": [
    "modified_train = createEntropyCols(modified_train)"
   ]
  },
  {
   "cell_type": "code",
   "execution_count": 19,
   "metadata": {
    "ExecuteTime": {
     "end_time": "2018-12-13T21:54:48.876871Z",
     "start_time": "2018-12-13T21:44:19.398354Z"
    }
   },
   "outputs": [],
   "source": [
    "# BEWARE: this takes 10.5 min to run\n",
    "modified_train = createLCSCols(modified_train)"
   ]
  },
  {
   "cell_type": "code",
   "execution_count": 20,
   "metadata": {
    "ExecuteTime": {
     "end_time": "2018-12-13T21:55:28.457119Z",
     "start_time": "2018-12-13T21:54:48.878717Z"
    }
   },
   "outputs": [],
   "source": [
    "modified_train = createJaccardIndexCols(modified_train)"
   ]
  },
  {
   "cell_type": "code",
   "execution_count": 21,
   "metadata": {
    "ExecuteTime": {
     "end_time": "2018-12-13T22:03:35.437772Z",
     "start_time": "2018-12-13T21:59:24.510190Z"
    }
   },
   "outputs": [],
   "source": [
    "# BEWARE: this takes ~4 min to run\n",
    "createJaroCol(modified_train, \"search_term\",\n",
    "              \"product_description\", \"jscore_query_desc\")\n",
    "createJaroCol(modified_train, \"search_term\",\n",
    "              \"product_title\", \"jscore_query_title\")"
   ]
  },
  {
   "cell_type": "code",
   "execution_count": 21,
   "metadata": {
    "ExecuteTime": {
     "end_time": "2018-12-03T03:26:51.403197Z",
     "start_time": "2018-12-03T03:18:22.180241Z"
    }
   },
   "outputs": [],
   "source": [
    "# BEWARE: this takes ~8.5 min to run\n",
    "modified_train = createSWscoreCol(\n",
    "    modified_train, \"search_term\", \"product_title\", \"search_title_SW\")"
   ]
  },
  {
   "cell_type": "code",
   "execution_count": 23,
   "metadata": {
    "ExecuteTime": {
     "end_time": "2018-12-03T06:48:10.003865Z",
     "start_time": "2018-12-03T05:01:45.404779Z"
    }
   },
   "outputs": [],
   "source": [
    "# BEWARE: this takes ~1hr 46m to run\n",
    "modified_train = createSWscoreCol(\n",
    "    modified_train, \"search_term\", \"product_description\", \"search_desc_SW\")"
   ]
  },
  {
   "cell_type": "code",
   "execution_count": 25,
   "metadata": {
    "ExecuteTime": {
     "end_time": "2018-12-03T23:45:54.952981Z",
     "start_time": "2018-12-03T09:11:00.024141Z"
    }
   },
   "outputs": [],
   "source": [
    "# BEWARE: this takes ~14hr 35m to run\n",
    "modified_train = createNCDCol(\n",
    "    modified_train, \"search_term\", \"product_title\", \"NCD_query_title\")"
   ]
  },
  {
   "cell_type": "code",
   "execution_count": 112,
   "metadata": {
    "ExecuteTime": {
     "end_time": "2018-12-05T05:16:29.983429Z",
     "start_time": "2018-12-05T05:16:29.638204Z"
    }
   },
   "outputs": [],
   "source": [
    "modified_train = add_prod_description_column(modified_train)"
   ]
  },
  {
   "cell_type": "code",
   "execution_count": 114,
   "metadata": {
    "ExecuteTime": {
     "end_time": "2018-12-05T05:20:50.926132Z",
     "start_time": "2018-12-05T05:20:14.780600Z"
    }
   },
   "outputs": [],
   "source": [
    "modified_train = add_word_count_features(modified_train)"
   ]
  },
  {
   "cell_type": "code",
   "execution_count": 119,
   "metadata": {
    "ExecuteTime": {
     "end_time": "2018-12-05T05:36:18.780820Z",
     "start_time": "2018-12-05T05:33:29.598989Z"
    }
   },
   "outputs": [],
   "source": [
    "# BEWARE: this takes ~3m to run\n",
    "modified_train = add_num_attrib_per_prod_column(modified_train, attributes)"
   ]
  },
  {
   "cell_type": "code",
   "execution_count": 120,
   "metadata": {
    "ExecuteTime": {
     "end_time": "2018-12-05T10:52:24.685042Z",
     "start_time": "2018-12-05T05:40:13.048095Z"
    }
   },
   "outputs": [],
   "source": [
    "# BEWARE, this takes ~5h 12m to run\n",
    "modified_train = find_n_tfidf_highest_scores(modified_train, 5)"
   ]
  },
  {
   "cell_type": "code",
   "execution_count": 121,
   "metadata": {
    "ExecuteTime": {
     "end_time": "2018-12-05T13:46:33.455394Z",
     "start_time": "2018-12-05T13:46:24.648962Z"
    }
   },
   "outputs": [],
   "source": [
    "modified_train = find_tfidf_words_in_search(modified_train)"
   ]
  },
  {
   "cell_type": "code",
   "execution_count": 122,
   "metadata": {
    "ExecuteTime": {
     "end_time": "2018-12-05T14:09:28.009102Z",
     "start_time": "2018-12-05T14:09:27.707879Z"
    }
   },
   "outputs": [],
   "source": [
    "modified_train = add_tfidf_col(modified_train)\n",
    "modified_train['num_attrib'].fillna(0, inplace=True)"
   ]
  },
  {
   "cell_type": "code",
   "execution_count": 156,
   "metadata": {
    "ExecuteTime": {
     "end_time": "2018-12-05T14:41:01.088701Z",
     "start_time": "2018-12-05T14:41:01.052069Z"
    }
   },
   "outputs": [
    {
     "name": "stdout",
     "output_type": "stream",
     "text": [
      "['product_uid' 'id' 'product_title' 'search_term' 'relevance' 'name'\n",
      " 'value' 'search_term_split' 'search_term_in_attrib' 'color'\n",
      " 'color_in_search_term' 'product_title_clean' 'min_levenstein_dist_title'\n",
      " 'brand' 'min_levenstein_dist_brand' 'product_description' 'cleaned_terms'\n",
      " 'stemmed_terms' 'stemmed_title' 'stemmed_desc' 'lemmatized_terms'\n",
      " 'lemmatized_title' 'lemmatized_desc' 'terms_neighbour' 'clean_length'\n",
      " 'title_length' 'desc_length' 'clean_terms_in_title' 'clean_terms_in_desc'\n",
      " 'stemmed_terms_in_title' 'stemmed_terms_in_desc'\n",
      " 'lemmatized_terms_in_title' 'lemmatized_terms_in_desc'\n",
      " 'neighbours_in_title' 'neighbours_in_desc' 'search_terms_entropy'\n",
      " 'title_entropy' 'jaccard_index_title' 'jaccard_index_desc' 'lcs_title'\n",
      " 'lcs_desc' 'jscore_query_desc' 'jscore_query_title' 'search_title_SW'\n",
      " 'search_desc_SW' 'NCD_query_title' 'total_description'\n",
      " 'num_words_in_description' 'num_stop_words' 'num_search_words'\n",
      " 'num_attrib' 'tfidf' 'tfidf_search_common']\n"
     ]
    },
    {
     "data": {
      "text/html": [
       "<div>\n",
       "<style scoped>\n",
       "    .dataframe tbody tr th:only-of-type {\n",
       "        vertical-align: middle;\n",
       "    }\n",
       "\n",
       "    .dataframe tbody tr th {\n",
       "        vertical-align: top;\n",
       "    }\n",
       "\n",
       "    .dataframe thead th {\n",
       "        text-align: right;\n",
       "    }\n",
       "</style>\n",
       "<table border=\"1\" class=\"dataframe\">\n",
       "  <thead>\n",
       "    <tr style=\"text-align: right;\">\n",
       "      <th></th>\n",
       "      <th>product_uid</th>\n",
       "      <th>id</th>\n",
       "      <th>product_title</th>\n",
       "      <th>search_term</th>\n",
       "      <th>relevance</th>\n",
       "      <th>name</th>\n",
       "      <th>value</th>\n",
       "      <th>search_term_split</th>\n",
       "      <th>search_term_in_attrib</th>\n",
       "      <th>color</th>\n",
       "      <th>...</th>\n",
       "      <th>search_title_SW</th>\n",
       "      <th>search_desc_SW</th>\n",
       "      <th>NCD_query_title</th>\n",
       "      <th>total_description</th>\n",
       "      <th>num_words_in_description</th>\n",
       "      <th>num_stop_words</th>\n",
       "      <th>num_search_words</th>\n",
       "      <th>num_attrib</th>\n",
       "      <th>tfidf</th>\n",
       "      <th>tfidf_search_common</th>\n",
       "    </tr>\n",
       "  </thead>\n",
       "  <tbody>\n",
       "    <tr>\n",
       "      <th>0</th>\n",
       "      <td>100001</td>\n",
       "      <td>2</td>\n",
       "      <td>Simpson Strong-Tie 12-Gauge Angle</td>\n",
       "      <td>angle bracket</td>\n",
       "      <td>3.0</td>\n",
       "      <td>['Bullet01', 'Bullet02', 'Bullet03', 'Bullet04...</td>\n",
       "      <td>{'stronger', 'consist', 'extra', 'instal', 'jo...</td>\n",
       "      <td>[angl, bracket]</td>\n",
       "      <td>1</td>\n",
       "      <td>{''}</td>\n",
       "      <td>...</td>\n",
       "      <td>1.0</td>\n",
       "      <td>4.0</td>\n",
       "      <td>0.107077</td>\n",
       "      <td>Simpson Strong-Tie 12-Gauge AngleNot only do a...</td>\n",
       "      <td>79</td>\n",
       "      <td>0</td>\n",
       "      <td>2</td>\n",
       "      <td>15.0</td>\n",
       "      <td>[angl, simpson, strong, tie, project]</td>\n",
       "      <td>0</td>\n",
       "    </tr>\n",
       "    <tr>\n",
       "      <th>1</th>\n",
       "      <td>100001</td>\n",
       "      <td>3</td>\n",
       "      <td>Simpson Strong-Tie 12-Gauge Angle</td>\n",
       "      <td>l bracket</td>\n",
       "      <td>2.5</td>\n",
       "      <td>['Bullet01', 'Bullet02', 'Bullet03', 'Bullet04...</td>\n",
       "      <td>{'stronger', 'consist', 'extra', 'instal', 'jo...</td>\n",
       "      <td>[bracket]</td>\n",
       "      <td>0</td>\n",
       "      <td>{''}</td>\n",
       "      <td>...</td>\n",
       "      <td>0.0</td>\n",
       "      <td>0.0</td>\n",
       "      <td>0.107077</td>\n",
       "      <td>Simpson Strong-Tie 12-Gauge AngleNot only do a...</td>\n",
       "      <td>79</td>\n",
       "      <td>0</td>\n",
       "      <td>2</td>\n",
       "      <td>15.0</td>\n",
       "      <td>[angl, simpson, strong, tie, project]</td>\n",
       "      <td>0</td>\n",
       "    </tr>\n",
       "    <tr>\n",
       "      <th>2</th>\n",
       "      <td>100002</td>\n",
       "      <td>9</td>\n",
       "      <td>BEHR Premium Textured DeckOver 1-gal. #SC-141 ...</td>\n",
       "      <td>deck over</td>\n",
       "      <td>3.0</td>\n",
       "      <td>['Application Method', 'Assembled Depth (in.)'...</td>\n",
       "      <td>{'represent', 'durabl', 'behr', 'slip', 'follo...</td>\n",
       "      <td>[deck]</td>\n",
       "      <td>1</td>\n",
       "      <td>{'Tans', 'Browns', 'Tugboat'}</td>\n",
       "      <td>...</td>\n",
       "      <td>0.0</td>\n",
       "      <td>3.0</td>\n",
       "      <td>0.109091</td>\n",
       "      <td>BEHR Premium Textured DeckOver 1-gal. #SC-141 ...</td>\n",
       "      <td>109</td>\n",
       "      <td>1</td>\n",
       "      <td>2</td>\n",
       "      <td>35.0</td>\n",
       "      <td>[concret, deckov, behr, textur, deck]</td>\n",
       "      <td>0</td>\n",
       "    </tr>\n",
       "  </tbody>\n",
       "</table>\n",
       "<p>3 rows × 53 columns</p>\n",
       "</div>"
      ],
      "text/plain": [
       "   product_uid  id                                      product_title  \\\n",
       "0       100001   2                  Simpson Strong-Tie 12-Gauge Angle   \n",
       "1       100001   3                  Simpson Strong-Tie 12-Gauge Angle   \n",
       "2       100002   9  BEHR Premium Textured DeckOver 1-gal. #SC-141 ...   \n",
       "\n",
       "     search_term  relevance  \\\n",
       "0  angle bracket        3.0   \n",
       "1      l bracket        2.5   \n",
       "2      deck over        3.0   \n",
       "\n",
       "                                                name  \\\n",
       "0  ['Bullet01', 'Bullet02', 'Bullet03', 'Bullet04...   \n",
       "1  ['Bullet01', 'Bullet02', 'Bullet03', 'Bullet04...   \n",
       "2  ['Application Method', 'Assembled Depth (in.)'...   \n",
       "\n",
       "                                               value search_term_split  \\\n",
       "0  {'stronger', 'consist', 'extra', 'instal', 'jo...   [angl, bracket]   \n",
       "1  {'stronger', 'consist', 'extra', 'instal', 'jo...         [bracket]   \n",
       "2  {'represent', 'durabl', 'behr', 'slip', 'follo...            [deck]   \n",
       "\n",
       "   search_term_in_attrib                          color         ...          \\\n",
       "0                      1                           {''}         ...           \n",
       "1                      0                           {''}         ...           \n",
       "2                      1  {'Tans', 'Browns', 'Tugboat'}         ...           \n",
       "\n",
       "   search_title_SW search_desc_SW  NCD_query_title  \\\n",
       "0              1.0            4.0         0.107077   \n",
       "1              0.0            0.0         0.107077   \n",
       "2              0.0            3.0         0.109091   \n",
       "\n",
       "                                   total_description  \\\n",
       "0  Simpson Strong-Tie 12-Gauge AngleNot only do a...   \n",
       "1  Simpson Strong-Tie 12-Gauge AngleNot only do a...   \n",
       "2  BEHR Premium Textured DeckOver 1-gal. #SC-141 ...   \n",
       "\n",
       "   num_words_in_description num_stop_words num_search_words num_attrib  \\\n",
       "0                        79              0                2       15.0   \n",
       "1                        79              0                2       15.0   \n",
       "2                       109              1                2       35.0   \n",
       "\n",
       "                                   tfidf tfidf_search_common  \n",
       "0  [angl, simpson, strong, tie, project]                   0  \n",
       "1  [angl, simpson, strong, tie, project]                   0  \n",
       "2  [concret, deckov, behr, textur, deck]                   0  \n",
       "\n",
       "[3 rows x 53 columns]"
      ]
     },
     "execution_count": 156,
     "metadata": {},
     "output_type": "execute_result"
    }
   ],
   "source": [
    "print(modified_train.columns.values)\n",
    "modified_train[:3]"
   ]
  },
  {
   "cell_type": "markdown",
   "metadata": {},
   "source": [
    "## Load Data"
   ]
  },
  {
   "cell_type": "markdown",
   "metadata": {},
   "source": [
    "Becaues of the time-consuming nature of the feature engineering, we saved the data into a csv. If you don't want to run all of the previous functions (which takes over 16 hours to run), just start with the cells below."
   ]
  },
  {
   "cell_type": "code",
   "execution_count": 50,
   "metadata": {
    "ExecuteTime": {
     "end_time": "2018-12-07T09:06:44.937377Z",
     "start_time": "2018-12-07T09:06:39.583416Z"
    }
   },
   "outputs": [],
   "source": [
    "zip_data = zipfile.ZipFile('Data/final_dataset.csv.zip')\n",
    "zip_data.extractall()\n",
    "modified_train = pd.read_csv('Data/final_dataset.csv')\n",
    "modified_train = modified_train.drop('Unnamed: 0', axis=1)\n",
    "assert(len(modified_train.columns) == 49)"
   ]
  },
  {
   "cell_type": "code",
   "execution_count": 51,
   "metadata": {
    "ExecuteTime": {
     "end_time": "2018-12-07T09:06:44.960980Z",
     "start_time": "2018-12-07T09:06:44.939167Z"
    }
   },
   "outputs": [],
   "source": [
    "X_train = modified_train[['clean_length', 'title_length',\n",
    "                          'desc_length', 'clean_terms_in_title',\n",
    "                          'clean_terms_in_desc', \n",
    "                          'min_levenstein_dist_title', 'min_levenstein_dist_brand',\n",
    "                          'stemmed_terms_in_title', 'stemmed_terms_in_desc',\n",
    "                          'lemmatized_terms_in_title', 'lemmatized_terms_in_desc',\n",
    "                          'neighbours_in_title', 'neighbours_in_desc', 'search_terms_entropy',\n",
    "                          'title_entropy', 'jaccard_index_title', 'jaccard_index_desc', 'lcs_title',\n",
    "                          'lcs_desc', 'jscore_query_desc', 'jscore_query_title', 'search_title_SW',\n",
    "                          'search_desc_SW', 'NCD_query_title', 'num_words_in_description', 'num_stop_words',\n",
    "                          'num_search_words', 'tfidf_search_common', 'num_attrib']]\n",
    "y_train = modified_train[['relevance']]"
   ]
  },
  {
   "cell_type": "markdown",
   "metadata": {},
   "source": [
    "Since we can't see the relevancy scores of the test set, we decided to split the training set further into our own training and test set."
   ]
  },
  {
   "cell_type": "code",
   "execution_count": 52,
   "metadata": {
    "ExecuteTime": {
     "end_time": "2018-12-07T09:06:44.994171Z",
     "start_time": "2018-12-07T09:06:44.963070Z"
    }
   },
   "outputs": [],
   "source": [
    "train_data, test_data, train_target, test_target = train_test_split(X_train,\n",
    "                                                                    y_train)"
   ]
  },
  {
   "cell_type": "code",
   "execution_count": 53,
   "metadata": {
    "ExecuteTime": {
     "end_time": "2018-12-07T09:06:46.109076Z",
     "start_time": "2018-12-07T09:06:46.106477Z"
    }
   },
   "outputs": [],
   "source": [
    "assert(int(math.floor(len(X_train) * .75)) == len(train_data))\n",
    "assert(len(train_data) == len(train_target))\n",
    "assert(int(math.ceil(len(X_train) * .25)) == len(test_data))\n",
    "assert(len(test_data) == len(test_target))"
   ]
  },
  {
   "cell_type": "markdown",
   "metadata": {},
   "source": [
    "## Baseline"
   ]
  },
  {
   "cell_type": "markdown",
   "metadata": {},
   "source": [
    "As a simple baseline, we considered the RMSE of a completely random model."
   ]
  },
  {
   "cell_type": "code",
   "execution_count": 39,
   "metadata": {
    "ExecuteTime": {
     "end_time": "2018-12-07T09:03:57.056832Z",
     "start_time": "2018-12-07T09:03:57.053766Z"
    }
   },
   "outputs": [
    {
     "name": "stdout",
     "output_type": "stream",
     "text": [
      "74071\n"
     ]
    }
   ],
   "source": [
    "print(len(y_train)) # no empty relevancy score."
   ]
  },
  {
   "cell_type": "markdown",
   "metadata": {},
   "source": [
    "Here we perform a randomization test on the relevancy scores where we permute the relevancy scores. In that way, we can keep the same distribution and effectively get a completely random model"
   ]
  },
  {
   "cell_type": "code",
   "execution_count": 62,
   "metadata": {
    "ExecuteTime": {
     "end_time": "2018-12-07T18:36:21.016291Z",
     "start_time": "2018-12-07T18:36:21.009961Z"
    }
   },
   "outputs": [
    {
     "name": "stdout",
     "output_type": "stream",
     "text": [
      "0.7559194204331985\n"
     ]
    }
   ],
   "source": [
    "random_score = np.random.permutation(y_train)\n",
    "random_chance_performance = math.sqrt(mean_squared_error(random_score, y_train))\n",
    "print(random_chance_performance)"
   ]
  },
  {
   "cell_type": "markdown",
   "metadata": {},
   "source": [
    "# Model Fitting"
   ]
  },
  {
   "cell_type": "markdown",
   "metadata": {},
   "source": [
    "## Linear Models"
   ]
  },
  {
   "cell_type": "markdown",
   "metadata": {},
   "source": [
    "For our simplest model, we decided to use linear regression."
   ]
  },
  {
   "cell_type": "code",
   "execution_count": 7,
   "metadata": {
    "ExecuteTime": {
     "end_time": "2018-12-07T01:10:41.719231Z",
     "start_time": "2018-12-07T01:10:41.637787Z"
    }
   },
   "outputs": [
    {
     "data": {
      "text/plain": [
       "LinearRegression(copy_X=True, fit_intercept=True, n_jobs=1, normalize=False)"
      ]
     },
     "execution_count": 7,
     "metadata": {},
     "output_type": "execute_result"
    }
   ],
   "source": [
    "lin_reg_model = LinearRegression()\n",
    "lin_reg_model.fit(train_data, train_target)"
   ]
  },
  {
   "cell_type": "code",
   "execution_count": 8,
   "metadata": {
    "ExecuteTime": {
     "end_time": "2018-12-07T01:10:42.455264Z",
     "start_time": "2018-12-07T01:10:42.444816Z"
    }
   },
   "outputs": [
    {
     "name": "stdout",
     "output_type": "stream",
     "text": [
      "[[2.222388  ]\n",
      " [2.05996623]\n",
      " [2.29824388]\n",
      " [2.32938087]\n",
      " [2.42778731]]\n",
      "       relevance\n",
      "6436        1.67\n",
      "52863       1.67\n",
      "63768       1.67\n",
      "50948       2.67\n",
      "30097       3.00\n"
     ]
    }
   ],
   "source": [
    "predicted = lin_reg_model.predict(test_data)\n",
    "print(predicted[:5])\n",
    "print(test_target[:5])"
   ]
  },
  {
   "cell_type": "markdown",
   "metadata": {},
   "source": [
    "After some exploration, we realized that some of the predictions produced by linear regression exceeded the bounds of the relevancy score metric. To account for that, we performed a min-max scaling to get the predictions within the bounds."
   ]
  },
  {
   "cell_type": "code",
   "execution_count": 9,
   "metadata": {
    "ExecuteTime": {
     "end_time": "2018-12-07T01:10:47.354443Z",
     "start_time": "2018-12-07T01:10:47.348132Z"
    }
   },
   "outputs": [
    {
     "name": "stdout",
     "output_type": "stream",
     "text": [
      "[[2.15978968]\n",
      " [2.01318068]\n",
      " [2.22826052]\n",
      " [2.25636613]\n",
      " [2.3451921 ]]\n",
      "       relevance\n",
      "6436        1.67\n",
      "52863       1.67\n",
      "63768       1.67\n",
      "50948       2.67\n",
      "30097       3.00\n"
     ]
    }
   ],
   "source": [
    "scaler = MinMaxScaler(feature_range=(1.0, 3.0))\n",
    "scaled_linear_predicted = scaler.fit_transform(predicted)\n",
    "print(scaled_linear_predicted[:5])\n",
    "print(test_target[:5])"
   ]
  },
  {
   "cell_type": "markdown",
   "metadata": {},
   "source": [
    "For good measure, we considered alternative linear models that have regularization like Lasso, Ridge and ElasticNet to evaluate if there was overfitting. "
   ]
  },
  {
   "cell_type": "code",
   "execution_count": 65,
   "metadata": {
    "ExecuteTime": {
     "end_time": "2018-12-07T18:40:04.262912Z",
     "start_time": "2018-12-07T18:40:04.257626Z"
    }
   },
   "outputs": [],
   "source": [
    "def grid_search_models_rmse(models, model_params, train_data, train_target):\n",
    "    \"\"\"\n",
    "    :param models:          a list of pipelines of models\n",
    "    :param model_params:    a list of dictionaries with the model parameters\n",
    "    \"\"\"\n",
    "    print(len(train_data))\n",
    "    print(train_data[:3])\n",
    "    print(train_data.iloc[:3, 0])\n",
    "    best_models = []\n",
    "    for model in zip(models, model_params):\n",
    "        gs = GridSearchCV(estimator=model[0],\n",
    "                          param_grid=model[1],\n",
    "                          scoring='neg_mean_squared_error',\n",
    "                          cv=5)\n",
    "        if type(train_data) != np.ndarray:\n",
    "            y = train_data.values.ravel()\n",
    "            train_data = np.array(y).astype(float)\n",
    "        gs.fit(train_data, train_target)\n",
    "        best_models_alt_linear.append(\n",
    "            (sqrt(-1 * gs.best_score_), gs.best_params_, model[0]))\n",
    "    return best_models"
   ]
  },
  {
   "cell_type": "code",
   "execution_count": 144,
   "metadata": {
    "ExecuteTime": {
     "end_time": "2018-12-06T23:56:34.319725Z",
     "start_time": "2018-12-06T23:45:44.221055Z"
    }
   },
   "outputs": [
    {
     "name": "stdout",
     "output_type": "stream",
     "text": [
      "[(0.5308711292115721, {'alpha': 0.25, 'normalize': False, 'selection': 'random'}, Lasso(alpha=1.0, copy_X=True, fit_intercept=True, max_iter=1000,\n",
      "   normalize=False, positive=False, precompute=False, random_state=None,\n",
      "   selection='cyclic', tol=0.0001, warm_start=False)), (0.4946356430077207, {'alpha': 0.5, 'normalize': False, 'solver': 'svd'}, Ridge(alpha=1.0, copy_X=True, fit_intercept=True, max_iter=None,\n",
      "   normalize=False, random_state=None, solver='auto', tol=0.001)), (0.5186387637495514, {'alpha': 0.5, 'l1_ratio': 0.25, 'normalize': False, 'selection': 'cyclic'}, ElasticNet(alpha=1.0, copy_X=True, fit_intercept=True, l1_ratio=0.5,\n",
      "      max_iter=1000, normalize=False, positive=False, precompute=False,\n",
      "      random_state=None, selection='cyclic', tol=0.0001, warm_start=False))]\n"
     ]
    }
   ],
   "source": [
    "# BEWARE: this takes ~11m to run\n",
    "alt_linear_models = [Lasso(),\n",
    "                     Ridge(),\n",
    "                     ElasticNet()]\n",
    "\n",
    "alt_linear_grid_params = [{'alpha': np.linspace(start=0.25, stop=1.0, num=4),\n",
    "                           'normalize': [False, True],\n",
    "                           'selection': ['cyclic', 'random']},\n",
    "                          {'alpha': np.linspace(start=0.5, stop=2.0, num=4),\n",
    "                           'normalize': [False, True],\n",
    "                           'solver': ['svd', 'lsqr', 'sag', 'saga']},\n",
    "                          {'alpha': np.linspace(start=0.5, stop=2.0, num=4),\n",
    "                           'l1_ratio': np.linspace(start=0.25, stop=1.0, num=4),\n",
    "                           'normalize': [False, True],\n",
    "                           'selection': ['cyclic', 'random']}]\n",
    "\n",
    "\n",
    "best_models_alt_linear = []\n",
    "for model in zip(alt_linear_models, alt_linear_grid_params):\n",
    "    gs = GridSearchCV(estimator=model[0],\n",
    "                      param_grid=model[1],\n",
    "                      scoring='neg_mean_squared_error',\n",
    "                      cv=5)\n",
    "    if type(y_train) != np.ndarray:\n",
    "        y = y_train.values.ravel()\n",
    "        y_train = np.array(y).astype(float)\n",
    "    gs.fit(X_train, y_train.ravel())\n",
    "    best_models_alt_linear.append(\n",
    "        (sqrt(-1 * gs.best_score_), gs.best_params_, model[0]))\n",
    "\n",
    "print(best_models_alt_linear)"
   ]
  },
  {
   "cell_type": "code",
   "execution_count": 145,
   "metadata": {
    "ExecuteTime": {
     "end_time": "2018-12-06T23:56:34.419975Z",
     "start_time": "2018-12-06T23:56:34.322587Z"
    }
   },
   "outputs": [
    {
     "name": "stdout",
     "output_type": "stream",
     "text": [
      "[[2.10183055]\n",
      " [2.18559358]\n",
      " [2.12364928]\n",
      " [2.50951735]\n",
      " [2.57230042]]\n",
      "       relevance\n",
      "49710       2.67\n",
      "58951       1.33\n",
      "45702       2.33\n",
      "63338       2.00\n",
      "71218       2.00\n"
     ]
    }
   ],
   "source": [
    "best_model_alt_linear = sorted(\n",
    "    best_models_alt_linear, key=lambda model: model[0])[0]\n",
    "best_model_alt_linear = best_model_alt_linear[2].__class__(\n",
    "    **best_model_alt_linear[1])\n",
    "best_model_alt_linear.fit(train_data, train_target)\n",
    "alt_linear_predicted = best_model_alt_linear.predict(test_data)\n",
    "print(alt_linear_predicted[:5])\n",
    "print(test_target[:5])"
   ]
  },
  {
   "cell_type": "markdown",
   "metadata": {},
   "source": [
    "## Tree-based Models"
   ]
  },
  {
   "cell_type": "markdown",
   "metadata": {},
   "source": [
    "After considering various linear models, we decided to test if tree-based models could improve upon the performance of the linear models."
   ]
  },
  {
   "cell_type": "code",
   "execution_count": 146,
   "metadata": {
    "ExecuteTime": {
     "end_time": "2018-12-07T00:22:45.884381Z",
     "start_time": "2018-12-06T23:56:34.422530Z"
    }
   },
   "outputs": [
    {
     "name": "stdout",
     "output_type": "stream",
     "text": [
      "[(0.4766320708963225, {'max_features': 'log2', 'n_estimators': 26}, RandomForestRegressor(bootstrap=True, criterion='mse', max_depth=None,\n",
      "           max_features='auto', max_leaf_nodes=None,\n",
      "           min_impurity_decrease=0.0, min_impurity_split=None,\n",
      "           min_samples_leaf=1, min_samples_split=2,\n",
      "           min_weight_fraction_leaf=0.0, n_estimators=10, n_jobs=1,\n",
      "           oob_score=False, random_state=None, verbose=0, warm_start=False)), (0.5021121390851352, {'learning_rate': 0.75, 'loss': 'linear', 'n_estimators': 6}, AdaBoostRegressor(base_estimator=None, learning_rate=1.0, loss='linear',\n",
      "         n_estimators=50, random_state=None))]\n"
     ]
    }
   ],
   "source": [
    "# BEWARE: this takes ~26m to run\n",
    "tree_models = [RandomForestRegressor(),\n",
    "               AdaBoostRegressor()]\n",
    "\n",
    "grid_params_tree = [{'n_estimators': range(1, 30, 5),\n",
    "                     'max_features': ['auto', 'sqrt', 'log2', None]},\n",
    "                    {'n_estimators': range(1, 30, 5),\n",
    "                     'loss': ['linear', 'square'],\n",
    "                     'learning_rate': np.linspace(start=0.5, stop=1.5, num=5)}]\n",
    "best_models_tree = []\n",
    "for model in zip(tree_models, grid_params_tree):\n",
    "    gs = GridSearchCV(estimator=model[0],\n",
    "                      param_grid=model[1],\n",
    "                      scoring='neg_mean_squared_error',\n",
    "                      cv=5)\n",
    "    if type(y_train) != np.ndarray:\n",
    "        y = y_train.values.ravel()\n",
    "        y_train = np.array(y).astype(float)\n",
    "    gs.fit(X_train, y_train.ravel())\n",
    "    best_models_tree.append(\n",
    "        (sqrt(-1 * gs.best_score_), gs.best_params_, model[0]))\n",
    "\n",
    "print(best_models_tree)"
   ]
  },
  {
   "cell_type": "code",
   "execution_count": 147,
   "metadata": {
    "ExecuteTime": {
     "end_time": "2018-12-07T00:22:49.406462Z",
     "start_time": "2018-12-07T00:22:45.886499Z"
    }
   },
   "outputs": [
    {
     "name": "stderr",
     "output_type": "stream",
     "text": [
      "/Users/robertsandor/anaconda3/lib/python3.7/site-packages/ipykernel_launcher.py:4: DataConversionWarning: A column-vector y was passed when a 1d array was expected. Please change the shape of y to (n_samples,), for example using ravel().\n",
      "  after removing the cwd from sys.path.\n"
     ]
    },
    {
     "name": "stdout",
     "output_type": "stream",
     "text": [
      "[2.22153846 2.23038462 2.34615385 2.16653846 2.24076923]\n",
      "       relevance\n",
      "49710       2.67\n",
      "58951       1.33\n",
      "45702       2.33\n",
      "63338       2.00\n",
      "71218       2.00\n"
     ]
    }
   ],
   "source": [
    "# here we chose the best tree model\n",
    "best_tree_model = sorted(best_models_tree, key=lambda model: model[0])[0]\n",
    "best_tree_model = best_tree_model[2].__class__(**best_tree_model[1])\n",
    "best_tree_model.fit(train_data, train_target)\n",
    "tree_predicted = best_tree_model.predict(test_data)\n",
    "print(tree_predicted[:5])\n",
    "print(test_target[:5])"
   ]
  },
  {
   "cell_type": "code",
   "execution_count": 149,
   "metadata": {
    "ExecuteTime": {
     "end_time": "2018-12-07T00:44:33.545815Z",
     "start_time": "2018-12-07T00:27:21.456556Z"
    }
   },
   "outputs": [
    {
     "name": "stdout",
     "output_type": "stream",
     "text": [
      "[(0.46981443222286356, {'rf_reg__max_features': 'log2', 'rf_reg__n_estimators': 135}, Pipeline(memory=None,\n",
      "     steps=[('rf_reg', RandomForestRegressor(bootstrap=True, criterion='mse', max_depth=None,\n",
      "           max_features='auto', max_leaf_nodes=None,\n",
      "           min_impurity_decrease=0.0, min_impurity_split=None,\n",
      "           min_samples_leaf=1, min_samples_split=2,\n",
      "           min_weight_fraction_leaf=0.0, n_estimators=10, n_jobs=1,\n",
      "           oob_score=False, random_state=None, verbose=0, warm_start=False))]))]\n"
     ]
    }
   ],
   "source": [
    "# BEWARE : this takes ~17m to run\n",
    "rf_models = [Pipeline([('rf_reg', RandomForestRegressor())])]\n",
    "\n",
    "grid_params_rf = [{'rf_reg__n_estimators': range(25, 151, 10),\n",
    "                   'rf_reg__max_features': ['log2']}]\n",
    "best_models_rf = []\n",
    "for model in zip(rf_models, grid_params_rf):\n",
    "    gs = GridSearchCV(estimator=model[0],\n",
    "                      param_grid=model[1],\n",
    "                      scoring='neg_mean_squared_error',\n",
    "                      cv=5)\n",
    "    if type(y_train) != np.ndarray:\n",
    "        y = y_train.values.ravel()\n",
    "        y_train = np.array(y).astype(float)\n",
    "    gs.fit(X_train, y_train.ravel())\n",
    "    best_models_rf.append(\n",
    "        (sqrt(-1 * gs.best_score_), gs.best_params_, model[0]))\n",
    "\n",
    "print(best_models_rf)"
   ]
  },
  {
   "cell_type": "code",
   "execution_count": 155,
   "metadata": {
    "ExecuteTime": {
     "end_time": "2018-12-07T00:51:58.547956Z",
     "start_time": "2018-12-07T00:51:58.541966Z"
    }
   },
   "outputs": [
    {
     "name": "stdout",
     "output_type": "stream",
     "text": [
      "<class 'sklearn.ensemble.forest.RandomForestRegressor'>\n",
      "{'rf_reg__max_features': 'log2', 'rf_reg__n_estimators': 135}\n",
      "{'max_features': 'log2', 'n_estimators': 135}\n"
     ]
    }
   ],
   "source": [
    "best_rf_model = sorted(best_models_rf, key=lambda model: model[0])[0]\n",
    "best_rf_model[1]['max_features'] = best_rf_model[1].pop('rf_reg__max_features')\n",
    "best_rf_model[1]['n_estimators'] = best_rf_model[1].pop('rf_reg__n_estimators')\n",
    "best_rf_model = (best_rf_model[0], best_rf_model[1], best_rf_model[2])"
   ]
  },
  {
   "cell_type": "code",
   "execution_count": 156,
   "metadata": {
    "ExecuteTime": {
     "end_time": "2018-12-07T00:52:38.092864Z",
     "start_time": "2018-12-07T00:52:19.827396Z"
    }
   },
   "outputs": [
    {
     "name": "stderr",
     "output_type": "stream",
     "text": [
      "/Users/robertsandor/anaconda3/lib/python3.7/site-packages/ipykernel_launcher.py:4: DataConversionWarning: A column-vector y was passed when a 1d array was expected. Please change the shape of y to (n_samples,), for example using ravel().\n",
      "  after removing the cwd from sys.path.\n"
     ]
    },
    {
     "name": "stdout",
     "output_type": "stream",
     "text": [
      "[2.19407407 2.26325926 2.33103704 2.23274074 2.20696296]\n",
      "       relevance\n",
      "49710       2.67\n",
      "58951       1.33\n",
      "45702       2.33\n",
      "63338       2.00\n",
      "71218       2.00\n"
     ]
    }
   ],
   "source": [
    "best_rf_model = best_rf_model[2].steps[0][1].__class__(\n",
    "    **best_rf_model[1])\n",
    "best_rf_model.fit(train_data, train_target)\n",
    "rf_predicted = best_rf_model.predict(test_data)\n",
    "print(rf_predicted[:5])\n",
    "print(test_target[:5])"
   ]
  },
  {
   "cell_type": "markdown",
   "metadata": {},
   "source": [
    "To be thorough, we also considered a model that used boosting (Gradient Boosting) to see how boosting would compare to all of our models thus far."
   ]
  },
  {
   "cell_type": "code",
   "execution_count": 12,
   "metadata": {
    "ExecuteTime": {
     "end_time": "2018-12-07T01:18:56.589225Z",
     "start_time": "2018-12-07T01:13:07.213631Z"
    }
   },
   "outputs": [
    {
     "name": "stdout",
     "output_type": "stream",
     "text": [
      "[(0.48326051146343524, {'gb_reg__learning_rate': 0.5, 'gb_reg__loss': 'ls', 'gb_reg__n_estimators': 21}, Pipeline(memory=None,\n",
      "     steps=[('gb_reg', GradientBoostingRegressor(alpha=0.9, criterion='friedman_mse', init=None,\n",
      "             learning_rate=0.1, loss='ls', max_depth=3, max_features=None,\n",
      "             max_leaf_nodes=None, min_impurity_decrease=0.0,\n",
      "             min_impurity_split=None, min_samples_leaf=1,\n",
      "             min_samples_split=2, min_weight_fraction_leaf=0.0,\n",
      "             n_estimators=100, presort='auto', random_state=None,\n",
      "             subsample=1.0, verbose=0, warm_start=False))]))]\n"
     ]
    }
   ],
   "source": [
    "# BEWARE: this takes ~14m to run\n",
    "gb_model_pipeline = [Pipeline([('gb_reg', GradientBoostingRegressor())])]\n",
    "\n",
    "grid_params_gb = [{'gb_reg__loss': ['ls', 'huber'],\n",
    "                   'gb_reg__n_estimators': range(1, 26, 5),\n",
    "                   'gb_reg__learning_rate': [0.1, 0.25, 0.5, 0.75, 0.9]}]\n",
    "best_gb_models = []\n",
    "for model in zip(gb_model_pipeline, grid_params_gb):\n",
    "    gs = GridSearchCV(estimator=model[0],\n",
    "                      param_grid=model[1],\n",
    "                      scoring='neg_mean_squared_error',\n",
    "                      cv=5)\n",
    "    if type(y_train) != np.ndarray:\n",
    "        y = y_train.values.ravel()\n",
    "        y_train = np.array(y).astype(float)\n",
    "    gs.fit(X_train, y_train.ravel())\n",
    "    best_gb_models.append(\n",
    "        (sqrt(-1 * gs.best_score_), gs.best_params_, model[0]))\n",
    "\n",
    "print(best_gb_models)"
   ]
  },
  {
   "cell_type": "code",
   "execution_count": 13,
   "metadata": {
    "ExecuteTime": {
     "end_time": "2018-12-07T01:18:56.599459Z",
     "start_time": "2018-12-07T01:18:56.592765Z"
    }
   },
   "outputs": [],
   "source": [
    "best_gb_model = sorted(\n",
    "    best_gb_models, key=lambda model: model[0])[0]\n",
    "best_gb_model[1]['learning_rate'] = best_gb_model[1].pop(\n",
    "    'gb_reg__learning_rate')\n",
    "best_gb_model[1]['n_estimators'] = best_gb_model[1].pop(\n",
    "    'gb_reg__n_estimators')\n",
    "best_gb_model[1]['loss'] = best_gb_model[1].pop(\n",
    "    'gb_reg__loss')"
   ]
  },
  {
   "cell_type": "code",
   "execution_count": 14,
   "metadata": {
    "ExecuteTime": {
     "end_time": "2018-12-07T01:18:58.829860Z",
     "start_time": "2018-12-07T01:18:56.603726Z"
    }
   },
   "outputs": [
    {
     "name": "stderr",
     "output_type": "stream",
     "text": [
      "/Users/robertsandor/anaconda3/lib/python3.7/site-packages/sklearn/utils/validation.py:578: DataConversionWarning: A column-vector y was passed when a 1d array was expected. Please change the shape of y to (n_samples, ), for example using ravel().\n",
      "  y = column_or_1d(y, warn=True)\n"
     ]
    },
    {
     "name": "stdout",
     "output_type": "stream",
     "text": [
      "[2.2805891  2.00586902 2.33699338 2.18935758 2.3945759 ]\n",
      "       relevance\n",
      "6436        1.67\n",
      "52863       1.67\n",
      "63768       1.67\n",
      "50948       2.67\n",
      "30097       3.00\n"
     ]
    }
   ],
   "source": [
    "best_gb_model = best_gb_model[2].steps[0][1].__class__(\n",
    "    **best_gb_model[1])\n",
    "\n",
    "best_gb_model.fit(train_data, train_target)\n",
    "gb_predicted = best_gb_model.predict(test_data)\n",
    "print(gb_predicted[:5])\n",
    "print(test_target[:5])"
   ]
  },
  {
   "cell_type": "code",
   "execution_count": 31,
   "metadata": {
    "ExecuteTime": {
     "end_time": "2018-12-07T03:13:36.728068Z",
     "start_time": "2018-12-07T03:02:31.254802Z"
    }
   },
   "outputs": [
    {
     "name": "stdout",
     "output_type": "stream",
     "text": [
      "[(0.4788486584277938, {'gb_reg__learning_rate': 0.4, 'gb_reg__loss': 'ls', 'gb_reg__n_estimators': 150}, Pipeline(memory=None,\n",
      "     steps=[('gb_reg', GradientBoostingRegressor(alpha=0.9, criterion='friedman_mse', init=None,\n",
      "             learning_rate=0.1, loss='ls', max_depth=3, max_features=None,\n",
      "             max_leaf_nodes=None, min_impurity_decrease=0.0,\n",
      "             min_impurity_split=None, min_samples_leaf=1,\n",
      "             min_samples_split=2, min_weight_fraction_leaf=0.0,\n",
      "             n_estimators=100, presort='auto', random_state=None,\n",
      "             subsample=1.0, verbose=0, warm_start=False))]))]\n"
     ]
    }
   ],
   "source": [
    "# BEWARE: this takes ~11m to run\n",
    "refined_gb_model_pipeline = [Pipeline([('gb_reg', GradientBoostingRegressor())])]\n",
    "\n",
    "grid_params_refined_gb = [{'gb_reg__loss': ['ls'],\n",
    "                   'gb_reg__n_estimators': range(25, 151, 25),\n",
    "                   'gb_reg__learning_rate': [0.4, 0.5, 0.6]}]\n",
    "best_refined_gb_models = []\n",
    "for model in zip(refined_gb_model_pipeline, grid_params_refined_gb):\n",
    "    gs = GridSearchCV(estimator=model[0],\n",
    "                      param_grid=model[1],\n",
    "                      scoring='neg_mean_squared_error',\n",
    "                      cv=5)\n",
    "    if type(y_train) != np.ndarray:\n",
    "        y = y_train.values.ravel()\n",
    "        y_train = np.array(y).astype(float)\n",
    "    gs.fit(X_train, y_train.ravel())\n",
    "    best_refined_gb_models.append(\n",
    "        (sqrt(-1 * gs.best_score_), gs.best_params_, model[0]))\n",
    "\n",
    "print(best_refined_gb_models)"
   ]
  },
  {
   "cell_type": "markdown",
   "metadata": {},
   "source": [
    "## Tree-Based Models - Reduced Dimensionality"
   ]
  },
  {
   "cell_type": "markdown",
   "metadata": {},
   "source": [
    "After evaluating performance on Random Forest models, we wondered how applying PCA (Principal Component Analysis) to reduce the dimensionality of our data would affect performance."
   ]
  },
  {
   "cell_type": "code",
   "execution_count": 162,
   "metadata": {
    "ExecuteTime": {
     "end_time": "2018-12-07T01:06:02.871886Z",
     "start_time": "2018-12-07T00:59:48.531923Z"
    }
   },
   "outputs": [
    {
     "name": "stdout",
     "output_type": "stream",
     "text": [
      "[(0.469774117760618, {'rf_reg__max_features': 'log2', 'rf_reg__n_estimators': 138}, Pipeline(memory=None,\n",
      "     steps=[('rf_reg', RandomForestRegressor(bootstrap=True, criterion='mse', max_depth=None,\n",
      "           max_features='auto', max_leaf_nodes=None,\n",
      "           min_impurity_decrease=0.0, min_impurity_split=None,\n",
      "           min_samples_leaf=1, min_samples_split=2,\n",
      "           min_weight_fraction_leaf=0.0, n_estimators=10, n_jobs=1,\n",
      "           oob_score=False, random_state=None, verbose=0, warm_start=False))]))]\n"
     ]
    }
   ],
   "source": [
    "# BEWARE: this takes ~6m to run\n",
    "transformed_rf_models = [Pipeline([('scale', StandardScaler()),\n",
    "                                   ('pca', PCA(n_components=int(\n",
    "                                       math.log2(len(X_train.columns))))),\n",
    "                                   ('rf_reg', RandomForestRegressor())])]\n",
    "\n",
    "grid_params_transformed_rf = [{'rf_reg__n_estimators': range(138, 143, 2),\n",
    "                               'rf_reg__max_features': ['log2']}]\n",
    "\n",
    "best_models_transformed_rf = []\n",
    "for model in zip(rf_models, grid_params_transformed_rf):\n",
    "    gs = GridSearchCV(estimator=model[0],\n",
    "                      param_grid=model[1],\n",
    "                      scoring='neg_mean_squared_error',\n",
    "                      cv=5)\n",
    "    if type(y_train) != np.ndarray:\n",
    "        y = y_train.values.ravel()\n",
    "        y_train = np.array(y).astype(float)\n",
    "    gs.fit(X_train, y_train.ravel())\n",
    "    best_models_transformed_rf.append(\n",
    "        (sqrt(-1 * gs.best_score_), gs.best_params_, model[0]))\n",
    "\n",
    "print(best_models_transformed_rf)"
   ]
  },
  {
   "cell_type": "code",
   "execution_count": 164,
   "metadata": {
    "ExecuteTime": {
     "end_time": "2018-12-07T01:07:41.014235Z",
     "start_time": "2018-12-07T01:07:41.010632Z"
    }
   },
   "outputs": [],
   "source": [
    "best_transformed_rf_model = sorted(\n",
    "    best_models_transformed_rf, key=lambda model: model[0])[0]\n",
    "best_transformed_rf_model[1]['max_features'] = best_transformed_rf_model[1].pop(\n",
    "    'rf_reg__max_features')\n",
    "best_transformed_rf_model[1]['n_estimators'] = best_transformed_rf_model[1].pop(\n",
    "    'rf_reg__n_estimators')\n",
    "best_transformed_rf_model = (\n",
    "    best_transformed_rf_model[0], best_transformed_rf_model[1], best_transformed_rf_model[2])"
   ]
  },
  {
   "cell_type": "code",
   "execution_count": 166,
   "metadata": {
    "ExecuteTime": {
     "end_time": "2018-12-07T01:09:15.911016Z",
     "start_time": "2018-12-07T01:08:55.988935Z"
    }
   },
   "outputs": [
    {
     "name": "stderr",
     "output_type": "stream",
     "text": [
      "/Users/robertsandor/anaconda3/lib/python3.7/site-packages/ipykernel_launcher.py:5: DataConversionWarning: A column-vector y was passed when a 1d array was expected. Please change the shape of y to (n_samples,), for example using ravel().\n",
      "  \"\"\"\n"
     ]
    },
    {
     "name": "stdout",
     "output_type": "stream",
     "text": [
      "[2.23543478 2.20797101 2.29949275 2.23333333 2.16615942]\n",
      "       relevance\n",
      "49710       2.67\n",
      "58951       1.33\n",
      "45702       2.33\n",
      "63338       2.00\n",
      "71218       2.00\n"
     ]
    }
   ],
   "source": [
    "best_transformed_rf_model = sorted(\n",
    "    best_models_transformed_rf, key=lambda model: model[0])[0]\n",
    "best_transformed_rf_model = best_transformed_rf_model[2].steps[0][1].__class__(\n",
    "    **best_transformed_rf_model[1])\n",
    "best_transformed_rf_model.fit(train_data, train_target)\n",
    "transformed_rf_predicted = best_transformed_rf_model.predict(test_data)\n",
    "print(transformed_rf_predicted[:5])\n",
    "print(test_target[:5])"
   ]
  },
  {
   "cell_type": "markdown",
   "metadata": {},
   "source": [
    "## Testing Smaller Feature Space"
   ]
  },
  {
   "cell_type": "markdown",
   "metadata": {},
   "source": [
    "We decided to also test out how using only certain 'categories' of our features would affect our model. We grouped our model into similarity features (Jaro index, Jaccard index, etc.),  count features, and length/entropy features. \n",
    "\n",
    "We then tested out the best models using only those subsets of features to compare to the performance of the model with the full set of features. This is different than simply using PCA or other dimensionality reduction techniques because PCA may choose a few select features from each of the categories whereas this tests only features from one particular category."
   ]
  },
  {
   "cell_type": "code",
   "execution_count": 17,
   "metadata": {
    "ExecuteTime": {
     "end_time": "2018-12-07T01:20:34.614384Z",
     "start_time": "2018-12-07T01:20:34.584696Z"
    }
   },
   "outputs": [
    {
     "data": {
      "text/html": [
       "<div>\n",
       "<style scoped>\n",
       "    .dataframe tbody tr th:only-of-type {\n",
       "        vertical-align: middle;\n",
       "    }\n",
       "\n",
       "    .dataframe tbody tr th {\n",
       "        vertical-align: top;\n",
       "    }\n",
       "\n",
       "    .dataframe thead th {\n",
       "        text-align: right;\n",
       "    }\n",
       "</style>\n",
       "<table border=\"1\" class=\"dataframe\">\n",
       "  <thead>\n",
       "    <tr style=\"text-align: right;\">\n",
       "      <th></th>\n",
       "      <th>stemmed_terms</th>\n",
       "      <th>clean_terms_in_title</th>\n",
       "      <th>clean_terms_in_desc</th>\n",
       "      <th>stemmed_terms_in_title</th>\n",
       "      <th>stemmed_terms_in_desc</th>\n",
       "      <th>lemmatized_terms_in_title</th>\n",
       "      <th>lemmatized_terms_in_desc</th>\n",
       "      <th>neighbours_in_title</th>\n",
       "      <th>neighbours_in_desc</th>\n",
       "      <th>search_terms_entropy</th>\n",
       "      <th>...</th>\n",
       "      <th>jscore_query_desc</th>\n",
       "      <th>jscore_query_title</th>\n",
       "      <th>search_title_SW</th>\n",
       "      <th>search_desc_SW</th>\n",
       "      <th>NCD_query_title</th>\n",
       "      <th>num_words_in_description</th>\n",
       "      <th>num_stop_words</th>\n",
       "      <th>num_search_words</th>\n",
       "      <th>tfidf_search_common</th>\n",
       "      <th>num_attrib</th>\n",
       "    </tr>\n",
       "  </thead>\n",
       "  <tbody>\n",
       "    <tr>\n",
       "      <th>0</th>\n",
       "      <td>angl bracket</td>\n",
       "      <td>1.0</td>\n",
       "      <td>0.0</td>\n",
       "      <td>1.0</td>\n",
       "      <td>1.0</td>\n",
       "      <td>1.0</td>\n",
       "      <td>1.0</td>\n",
       "      <td>0.0</td>\n",
       "      <td>1.0</td>\n",
       "      <td>3.251629</td>\n",
       "      <td>...</td>\n",
       "      <td>2.833333</td>\n",
       "      <td>0.866667</td>\n",
       "      <td>1.0</td>\n",
       "      <td>4.0</td>\n",
       "      <td>0.107077</td>\n",
       "      <td>79</td>\n",
       "      <td>0</td>\n",
       "      <td>2</td>\n",
       "      <td>1</td>\n",
       "      <td>15.0</td>\n",
       "    </tr>\n",
       "    <tr>\n",
       "      <th>1</th>\n",
       "      <td>bracket</td>\n",
       "      <td>0.0</td>\n",
       "      <td>0.0</td>\n",
       "      <td>0.0</td>\n",
       "      <td>0.0</td>\n",
       "      <td>0.0</td>\n",
       "      <td>0.0</td>\n",
       "      <td>0.0</td>\n",
       "      <td>0.0</td>\n",
       "      <td>2.807355</td>\n",
       "      <td>...</td>\n",
       "      <td>0.000000</td>\n",
       "      <td>0.000000</td>\n",
       "      <td>0.0</td>\n",
       "      <td>0.0</td>\n",
       "      <td>0.107077</td>\n",
       "      <td>79</td>\n",
       "      <td>0</td>\n",
       "      <td>2</td>\n",
       "      <td>0</td>\n",
       "      <td>15.0</td>\n",
       "    </tr>\n",
       "    <tr>\n",
       "      <th>2</th>\n",
       "      <td>deck</td>\n",
       "      <td>0.0</td>\n",
       "      <td>0.0</td>\n",
       "      <td>0.0</td>\n",
       "      <td>1.0</td>\n",
       "      <td>0.0</td>\n",
       "      <td>1.0</td>\n",
       "      <td>0.0</td>\n",
       "      <td>1.0</td>\n",
       "      <td>2.000000</td>\n",
       "      <td>...</td>\n",
       "      <td>2.711111</td>\n",
       "      <td>0.000000</td>\n",
       "      <td>0.0</td>\n",
       "      <td>3.0</td>\n",
       "      <td>0.109091</td>\n",
       "      <td>109</td>\n",
       "      <td>1</td>\n",
       "      <td>2</td>\n",
       "      <td>1</td>\n",
       "      <td>35.0</td>\n",
       "    </tr>\n",
       "  </tbody>\n",
       "</table>\n",
       "<p>3 rows × 25 columns</p>\n",
       "</div>"
      ],
      "text/plain": [
       "  stemmed_terms  clean_terms_in_title  clean_terms_in_desc  \\\n",
       "0  angl bracket                   1.0                  0.0   \n",
       "1       bracket                   0.0                  0.0   \n",
       "2          deck                   0.0                  0.0   \n",
       "\n",
       "   stemmed_terms_in_title  stemmed_terms_in_desc  lemmatized_terms_in_title  \\\n",
       "0                     1.0                    1.0                        1.0   \n",
       "1                     0.0                    0.0                        0.0   \n",
       "2                     0.0                    1.0                        0.0   \n",
       "\n",
       "   lemmatized_terms_in_desc  neighbours_in_title  neighbours_in_desc  \\\n",
       "0                       1.0                  0.0                 1.0   \n",
       "1                       0.0                  0.0                 0.0   \n",
       "2                       1.0                  0.0                 1.0   \n",
       "\n",
       "   search_terms_entropy     ...      jscore_query_desc  jscore_query_title  \\\n",
       "0              3.251629     ...               2.833333            0.866667   \n",
       "1              2.807355     ...               0.000000            0.000000   \n",
       "2              2.000000     ...               2.711111            0.000000   \n",
       "\n",
       "   search_title_SW  search_desc_SW  NCD_query_title  num_words_in_description  \\\n",
       "0              1.0             4.0         0.107077                        79   \n",
       "1              0.0             0.0         0.107077                        79   \n",
       "2              0.0             3.0         0.109091                       109   \n",
       "\n",
       "   num_stop_words  num_search_words  tfidf_search_common  num_attrib  \n",
       "0               0                 2                    1        15.0  \n",
       "1               0                 2                    0        15.0  \n",
       "2               1                 2                    1        35.0  \n",
       "\n",
       "[3 rows x 25 columns]"
      ]
     },
     "execution_count": 17,
     "metadata": {},
     "output_type": "execute_result"
    }
   ],
   "source": [
    "all_num_features = modified_train[getAllNumericalCols(modified_train)]\n",
    "all_num_features.head(3)"
   ]
  },
  {
   "cell_type": "code",
   "execution_count": 25,
   "metadata": {
    "ExecuteTime": {
     "end_time": "2018-12-07T01:27:13.476326Z",
     "start_time": "2018-12-07T01:27:13.459979Z"
    }
   },
   "outputs": [
    {
     "data": {
      "text/html": [
       "<div>\n",
       "<style scoped>\n",
       "    .dataframe tbody tr th:only-of-type {\n",
       "        vertical-align: middle;\n",
       "    }\n",
       "\n",
       "    .dataframe tbody tr th {\n",
       "        vertical-align: top;\n",
       "    }\n",
       "\n",
       "    .dataframe thead th {\n",
       "        text-align: right;\n",
       "    }\n",
       "</style>\n",
       "<table border=\"1\" class=\"dataframe\">\n",
       "  <thead>\n",
       "    <tr style=\"text-align: right;\">\n",
       "      <th></th>\n",
       "      <th>neighbours_in_title</th>\n",
       "      <th>neighbours_in_desc</th>\n",
       "      <th>jaccard_index_title</th>\n",
       "      <th>jaccard_index_desc</th>\n",
       "      <th>lcs_title</th>\n",
       "      <th>lcs_desc</th>\n",
       "      <th>jscore_query_desc</th>\n",
       "      <th>jscore_query_title</th>\n",
       "      <th>search_title_SW</th>\n",
       "      <th>search_desc_SW</th>\n",
       "      <th>NCD_query_title</th>\n",
       "    </tr>\n",
       "  </thead>\n",
       "  <tbody>\n",
       "    <tr>\n",
       "      <th>0</th>\n",
       "      <td>0.0</td>\n",
       "      <td>1.0</td>\n",
       "      <td>0.166667</td>\n",
       "      <td>0.000000</td>\n",
       "      <td>6</td>\n",
       "      <td>13</td>\n",
       "      <td>2.833333</td>\n",
       "      <td>0.866667</td>\n",
       "      <td>1.0</td>\n",
       "      <td>4.0</td>\n",
       "      <td>0.107077</td>\n",
       "    </tr>\n",
       "    <tr>\n",
       "      <th>1</th>\n",
       "      <td>0.0</td>\n",
       "      <td>0.0</td>\n",
       "      <td>0.000000</td>\n",
       "      <td>0.000000</td>\n",
       "      <td>3</td>\n",
       "      <td>7</td>\n",
       "      <td>0.000000</td>\n",
       "      <td>0.000000</td>\n",
       "      <td>0.0</td>\n",
       "      <td>0.0</td>\n",
       "      <td>0.107077</td>\n",
       "    </tr>\n",
       "    <tr>\n",
       "      <th>2</th>\n",
       "      <td>0.0</td>\n",
       "      <td>1.0</td>\n",
       "      <td>0.000000</td>\n",
       "      <td>0.012048</td>\n",
       "      <td>4</td>\n",
       "      <td>4</td>\n",
       "      <td>2.711111</td>\n",
       "      <td>0.000000</td>\n",
       "      <td>0.0</td>\n",
       "      <td>3.0</td>\n",
       "      <td>0.109091</td>\n",
       "    </tr>\n",
       "  </tbody>\n",
       "</table>\n",
       "</div>"
      ],
      "text/plain": [
       "   neighbours_in_title  neighbours_in_desc  jaccard_index_title  \\\n",
       "0                  0.0                 1.0             0.166667   \n",
       "1                  0.0                 0.0             0.000000   \n",
       "2                  0.0                 1.0             0.000000   \n",
       "\n",
       "   jaccard_index_desc  lcs_title  lcs_desc  jscore_query_desc  \\\n",
       "0            0.000000          6        13           2.833333   \n",
       "1            0.000000          3         7           0.000000   \n",
       "2            0.012048          4         4           2.711111   \n",
       "\n",
       "   jscore_query_title  search_title_SW  search_desc_SW  NCD_query_title  \n",
       "0            0.866667              1.0             4.0         0.107077  \n",
       "1            0.000000              0.0             0.0         0.107077  \n",
       "2            0.000000              0.0             3.0         0.109091  "
      ]
     },
     "execution_count": 25,
     "metadata": {},
     "output_type": "execute_result"
    }
   ],
   "source": [
    "all_similarity_features = modified_train[getSimilarityCols(all_num_features)]\n",
    "all_similarity_features.head(3)"
   ]
  },
  {
   "cell_type": "code",
   "execution_count": 26,
   "metadata": {
    "ExecuteTime": {
     "end_time": "2018-12-07T01:27:16.782699Z",
     "start_time": "2018-12-07T01:27:16.775996Z"
    }
   },
   "outputs": [],
   "source": [
    "count_cols, len_h_cols = getCountAndOtherCols(\n",
    "    all_similarity_features, all_num_features)\n",
    "all_count_features = modified_train[count_cols]\n",
    "len_entropy_features = modified_train[len_h_cols]"
   ]
  },
  {
   "cell_type": "code",
   "execution_count": 27,
   "metadata": {
    "ExecuteTime": {
     "end_time": "2018-12-07T01:27:18.416454Z",
     "start_time": "2018-12-07T01:27:18.387952Z"
    }
   },
   "outputs": [],
   "source": [
    "train_data_numerical_subset, test_data_numerical_subset, train_target_numerical_subset, test_target_numerical_subset = train_test_split(all_num_features,\n",
    "                                                                                                                                        y_train)"
   ]
  },
  {
   "cell_type": "code",
   "execution_count": 262,
   "metadata": {
    "ExecuteTime": {
     "end_time": "2018-12-06T03:41:41.205114Z",
     "start_time": "2018-12-06T03:41:23.099091Z"
    }
   },
   "outputs": [
    {
     "name": "stderr",
     "output_type": "stream",
     "text": [
      "/Users/robertsandor/anaconda3/envs/ml/lib/python3.6/site-packages/ipykernel_launcher.py:1: DataConversionWarning: A column-vector y was passed when a 1d array was expected. Please change the shape of y to (n_samples,), for example using ravel().\n",
      "  \"\"\"Entry point for launching an IPython kernel.\n"
     ]
    },
    {
     "name": "stdout",
     "output_type": "stream",
     "text": [
      "[2.24535714 2.49071429 2.64038095 2.60203571 2.58490476]\n",
      "       relevance\n",
      "64115       2.33\n",
      "55409       2.33\n",
      "57088       2.00\n",
      "38621       3.00\n",
      "50452       2.33\n"
     ]
    }
   ],
   "source": [
    "best_transformed_rf_model.fit(\n",
    "    train_data_numerical_subset, train_target_numerical_subset)\n",
    "transformed_rf_predicted_numerical_subset = best_transformed_rf_model.predict(\n",
    "    test_data_numerical_subset)\n",
    "print(transformed_rf_predicted_numerical_subset[:5])\n",
    "print(test_target[:5])"
   ]
  },
  {
   "cell_type": "code",
   "execution_count": 266,
   "metadata": {
    "ExecuteTime": {
     "end_time": "2018-12-06T03:50:20.686019Z",
     "start_time": "2018-12-06T03:50:03.047809Z"
    }
   },
   "outputs": [
    {
     "name": "stderr",
     "output_type": "stream",
     "text": [
      "/Users/robertsandor/anaconda3/envs/ml/lib/python3.6/site-packages/ipykernel_launcher.py:1: DataConversionWarning: A column-vector y was passed when a 1d array was expected. Please change the shape of y to (n_samples,), for example using ravel().\n",
      "  \"\"\"Entry point for launching an IPython kernel.\n"
     ]
    },
    {
     "name": "stdout",
     "output_type": "stream",
     "text": [
      "[2.22330935 2.45896043 2.65258993 2.58966427 2.46791367]\n",
      "       relevance\n",
      "64115       2.33\n",
      "55409       2.33\n",
      "57088       2.00\n",
      "38621       3.00\n",
      "50452       2.33\n"
     ]
    }
   ],
   "source": [
    "best_rf_model.fit(train_data_numerical_subset, train_target_numerical_subset)\n",
    "rf_predicted_numerical_subset = best_rf_model.predict(\n",
    "    test_data_numerical_subset)\n",
    "print(rf_predicted_numerical_subset[:5])\n",
    "print(test_target[:5])"
   ]
  },
  {
   "cell_type": "code",
   "execution_count": 263,
   "metadata": {
    "ExecuteTime": {
     "end_time": "2018-12-06T03:41:41.241209Z",
     "start_time": "2018-12-06T03:41:41.208502Z"
    }
   },
   "outputs": [],
   "source": [
    "train_data_similarity_subset, test_data_similarity_subset, train_target_similarity_subset, test_target_similarity_subset = train_test_split(all_similarity_features,\n",
    "                                                                                                                                            y_train)"
   ]
  },
  {
   "cell_type": "code",
   "execution_count": 264,
   "metadata": {
    "ExecuteTime": {
     "end_time": "2018-12-06T03:41:56.375934Z",
     "start_time": "2018-12-06T03:41:41.244455Z"
    }
   },
   "outputs": [
    {
     "name": "stderr",
     "output_type": "stream",
     "text": [
      "/Users/robertsandor/anaconda3/envs/ml/lib/python3.6/site-packages/ipykernel_launcher.py:1: DataConversionWarning: A column-vector y was passed when a 1d array was expected. Please change the shape of y to (n_samples,), for example using ravel().\n",
      "  \"\"\"Entry point for launching an IPython kernel.\n"
     ]
    },
    {
     "name": "stdout",
     "output_type": "stream",
     "text": [
      "[2.11857143 2.27058673 2.1015     2.44828571 2.39452381]\n",
      "       relevance\n",
      "64115       2.33\n",
      "55409       2.33\n",
      "57088       2.00\n",
      "38621       3.00\n",
      "50452       2.33\n"
     ]
    }
   ],
   "source": [
    "best_transformed_rf_model.fit(\n",
    "    train_data_similarity_subset, train_target_similarity_subset)\n",
    "transformed_rf_predicted_similarity_subset = best_transformed_rf_model.predict(\n",
    "    test_data_similarity_subset)\n",
    "print(transformed_rf_predicted_similarity_subset[:5])\n",
    "print(test_target[:5])"
   ]
  },
  {
   "cell_type": "code",
   "execution_count": 268,
   "metadata": {
    "ExecuteTime": {
     "end_time": "2018-12-06T03:54:14.717152Z",
     "start_time": "2018-12-06T03:53:59.542835Z"
    }
   },
   "outputs": [
    {
     "name": "stderr",
     "output_type": "stream",
     "text": [
      "/Users/robertsandor/anaconda3/envs/ml/lib/python3.6/site-packages/ipykernel_launcher.py:1: DataConversionWarning: A column-vector y was passed when a 1d array was expected. Please change the shape of y to (n_samples,), for example using ravel().\n",
      "  \"\"\"Entry point for launching an IPython kernel.\n"
     ]
    },
    {
     "name": "stdout",
     "output_type": "stream",
     "text": [
      "[2.02188849 2.34651079 2.10170264 2.58411871 2.42079137]\n",
      "       relevance\n",
      "64115       2.33\n",
      "55409       2.33\n",
      "57088       2.00\n",
      "38621       3.00\n",
      "50452       2.33\n"
     ]
    }
   ],
   "source": [
    "best_rf_model.fit(train_data_similarity_subset, train_target_similarity_subset)\n",
    "rf_predicted_similarity_subset = best_rf_model.predict(\n",
    "    test_data_similarity_subset)\n",
    "print(rf_predicted_similarity_subset[:5])\n",
    "print(test_target[:5])"
   ]
  },
  {
   "cell_type": "code",
   "execution_count": 273,
   "metadata": {
    "ExecuteTime": {
     "end_time": "2018-12-06T03:59:35.877474Z",
     "start_time": "2018-12-06T03:59:35.856394Z"
    }
   },
   "outputs": [],
   "source": [
    "train_data_count_subset, test_data_count_subset, train_target_count_subset, test_target_count_subset = train_test_split(all_count_features,\n",
    "                                                                                                                        y_train)"
   ]
  },
  {
   "cell_type": "code",
   "execution_count": 274,
   "metadata": {
    "ExecuteTime": {
     "end_time": "2018-12-06T03:59:44.036371Z",
     "start_time": "2018-12-06T03:59:36.490203Z"
    }
   },
   "outputs": [
    {
     "name": "stderr",
     "output_type": "stream",
     "text": [
      "/Users/robertsandor/anaconda3/envs/ml/lib/python3.6/site-packages/ipykernel_launcher.py:1: DataConversionWarning: A column-vector y was passed when a 1d array was expected. Please change the shape of y to (n_samples,), for example using ravel().\n",
      "  \"\"\"Entry point for launching an IPython kernel.\n"
     ]
    },
    {
     "name": "stdout",
     "output_type": "stream",
     "text": [
      "[2.62299464 2.61285714 2.37335278 2.22497168 2.24638285]\n",
      "       relevance\n",
      "64115       2.33\n",
      "55409       2.33\n",
      "57088       2.00\n",
      "38621       3.00\n",
      "50452       2.33\n"
     ]
    }
   ],
   "source": [
    "best_transformed_rf_model.fit(\n",
    "    train_data_count_subset, train_target_count_subset)\n",
    "transformed_rf_predicted_count_subset = best_transformed_rf_model.predict(\n",
    "    test_data_count_subset)\n",
    "print(transformed_rf_predicted_count_subset[:5])\n",
    "print(test_target[:5])"
   ]
  },
  {
   "cell_type": "code",
   "execution_count": 275,
   "metadata": {
    "ExecuteTime": {
     "end_time": "2018-12-06T04:00:34.417299Z",
     "start_time": "2018-12-06T04:00:26.533260Z"
    }
   },
   "outputs": [
    {
     "name": "stderr",
     "output_type": "stream",
     "text": [
      "/Users/robertsandor/anaconda3/envs/ml/lib/python3.6/site-packages/ipykernel_launcher.py:1: DataConversionWarning: A column-vector y was passed when a 1d array was expected. Please change the shape of y to (n_samples,), for example using ravel().\n",
      "  \"\"\"Entry point for launching an IPython kernel.\n"
     ]
    },
    {
     "name": "stdout",
     "output_type": "stream",
     "text": [
      "[2.62617557 2.52879496 2.36541988 2.20950156 2.27060029]\n",
      "       relevance\n",
      "64115       2.33\n",
      "55409       2.33\n",
      "57088       2.00\n",
      "38621       3.00\n",
      "50452       2.33\n"
     ]
    }
   ],
   "source": [
    "best_rf_model.fit(train_data_count_subset, train_target_count_subset)\n",
    "rf_predicted_count_subset = best_rf_model.predict(test_data_count_subset)\n",
    "print(rf_predicted_count_subset[:5])\n",
    "print(test_target[:5])"
   ]
  },
  {
   "cell_type": "code",
   "execution_count": 278,
   "metadata": {
    "ExecuteTime": {
     "end_time": "2018-12-06T04:05:03.345733Z",
     "start_time": "2018-12-06T04:05:03.329956Z"
    }
   },
   "outputs": [],
   "source": [
    "train_data_len_entropy_subset, test_data_len_entropy_subset, train_target_len_entropy_subset, test_target_len_entropy_subset = train_test_split(len_entropy_features,\n",
    "                                                                                                                                                y_train)"
   ]
  },
  {
   "cell_type": "code",
   "execution_count": 279,
   "metadata": {
    "ExecuteTime": {
     "end_time": "2018-12-06T04:08:03.419036Z",
     "start_time": "2018-12-06T04:07:46.615343Z"
    }
   },
   "outputs": [
    {
     "name": "stderr",
     "output_type": "stream",
     "text": [
      "/Users/robertsandor/anaconda3/envs/ml/lib/python3.6/site-packages/ipykernel_launcher.py:1: DataConversionWarning: A column-vector y was passed when a 1d array was expected. Please change the shape of y to (n_samples,), for example using ravel().\n",
      "  \"\"\"Entry point for launching an IPython kernel.\n"
     ]
    },
    {
     "name": "stdout",
     "output_type": "stream",
     "text": [
      "[2.54094286 2.59914286 2.36814286 2.59955051 2.06421429]\n",
      "       relevance\n",
      "64115       2.33\n",
      "55409       2.33\n",
      "57088       2.00\n",
      "38621       3.00\n",
      "50452       2.33\n"
     ]
    }
   ],
   "source": [
    "best_transformed_rf_model.fit(\n",
    "    train_data_len_entropy_subset, train_target_len_entropy_subset)\n",
    "transformed_rf_predicted_len_entropy_subset = best_transformed_rf_model.predict(\n",
    "    test_data_len_entropy_subset)\n",
    "print(transformed_rf_predicted_len_entropy_subset[:5])\n",
    "print(test_target[:5])"
   ]
  },
  {
   "cell_type": "code",
   "execution_count": 280,
   "metadata": {
    "ExecuteTime": {
     "end_time": "2018-12-06T04:08:46.975873Z",
     "start_time": "2018-12-06T04:08:30.610770Z"
    }
   },
   "outputs": [
    {
     "name": "stderr",
     "output_type": "stream",
     "text": [
      "/Users/robertsandor/anaconda3/envs/ml/lib/python3.6/site-packages/ipykernel_launcher.py:1: DataConversionWarning: A column-vector y was passed when a 1d array was expected. Please change the shape of y to (n_samples,), for example using ravel().\n",
      "  \"\"\"Entry point for launching an IPython kernel.\n"
     ]
    },
    {
     "name": "stdout",
     "output_type": "stream",
     "text": [
      "[2.51521223 2.61115108 2.4346283  2.65931655 1.94434053]\n",
      "       relevance\n",
      "64115       2.33\n",
      "55409       2.33\n",
      "57088       2.00\n",
      "38621       3.00\n",
      "50452       2.33\n"
     ]
    }
   ],
   "source": [
    "best_rf_model.fit(train_data_len_entropy_subset,\n",
    "                  train_target_len_entropy_subset)\n",
    "rf_predicted_len_entropy_subset = best_rf_model.predict(\n",
    "    test_data_len_entropy_subset)\n",
    "print(rf_predicted_len_entropy_subset[:5])\n",
    "print(test_target[:5])"
   ]
  },
  {
   "cell_type": "markdown",
   "metadata": {},
   "source": [
    "## Evaluation Metric"
   ]
  },
  {
   "cell_type": "markdown",
   "metadata": {},
   "source": [
    "The benchmark was ~rank 1681 on the Kaggle leaderboard for this competition with an RMSE of .51049\n",
    "\n",
    "1st place had an RMSE of .43192\n",
    "\n",
    "https://www.kaggle.com/c/home-depot-product-search-relevance/leaderboard"
   ]
  },
  {
   "cell_type": "code",
   "execution_count": 77,
   "metadata": {
    "ExecuteTime": {
     "end_time": "2018-12-06T21:29:39.719341Z",
     "start_time": "2018-12-06T21:29:39.715471Z"
    }
   },
   "outputs": [
    {
     "name": "stdout",
     "output_type": "stream",
     "text": [
      "0.4898\n"
     ]
    }
   ],
   "source": [
    "rmse_lin_reg = sqrt(mean_squared_error(predicted, test_target))\n",
    "\n",
    "print(f\"{rmse_lin_reg:.4f}\")"
   ]
  },
  {
   "cell_type": "code",
   "execution_count": 78,
   "metadata": {
    "ExecuteTime": {
     "end_time": "2018-12-06T21:29:41.151643Z",
     "start_time": "2018-12-06T21:29:41.147057Z"
    }
   },
   "outputs": [
    {
     "name": "stdout",
     "output_type": "stream",
     "text": [
      "0.4981\n"
     ]
    }
   ],
   "source": [
    "rmse_lin_reg_scaled = sqrt(mean_squared_error(scaled_linear_predicted, test_target))\n",
    "\n",
    "print(f\"{rmse_lin_reg_scaled:.4f}\")"
   ]
  },
  {
   "cell_type": "code",
   "execution_count": 224,
   "metadata": {
    "ExecuteTime": {
     "end_time": "2018-12-06T02:18:17.693335Z",
     "start_time": "2018-12-06T02:18:17.688835Z"
    }
   },
   "outputs": [
    {
     "name": "stdout",
     "output_type": "stream",
     "text": [
      "0.4758\n"
     ]
    }
   ],
   "source": [
    "rmse_tree = sqrt(mean_squared_error(tree_predicted, test_target))\n",
    "\n",
    "print(f\"{rmse_tree:.4f}\")"
   ]
  },
  {
   "cell_type": "code",
   "execution_count": 225,
   "metadata": {
    "ExecuteTime": {
     "end_time": "2018-12-06T02:18:17.700326Z",
     "start_time": "2018-12-06T02:18:17.695475Z"
    }
   },
   "outputs": [
    {
     "name": "stdout",
     "output_type": "stream",
     "text": [
      "0.4943\n"
     ]
    }
   ],
   "source": [
    "rmse_alt_linear = sqrt(mean_squared_error(alt_linear_predicted, test_target))\n",
    "\n",
    "print(f\"{rmse_alt_linear:.4f}\")"
   ]
  },
  {
   "cell_type": "code",
   "execution_count": 226,
   "metadata": {
    "ExecuteTime": {
     "end_time": "2018-12-06T02:18:17.706941Z",
     "start_time": "2018-12-06T02:18:17.702133Z"
    }
   },
   "outputs": [
    {
     "name": "stdout",
     "output_type": "stream",
     "text": [
      "0.4688\n"
     ]
    }
   ],
   "source": [
    "rmse_rf = sqrt(mean_squared_error(rf_predicted, test_target))\n",
    "\n",
    "print(f\"{rmse_rf:.4f}\")"
   ]
  },
  {
   "cell_type": "code",
   "execution_count": 227,
   "metadata": {
    "ExecuteTime": {
     "end_time": "2018-12-06T02:18:17.714979Z",
     "start_time": "2018-12-06T02:18:17.708651Z"
    }
   },
   "outputs": [
    {
     "name": "stdout",
     "output_type": "stream",
     "text": [
      "0.4683\n"
     ]
    }
   ],
   "source": [
    "rmse_transformed_rf = sqrt(mean_squared_error(\n",
    "    transformed_rf_predicted, test_target))\n",
    "\n",
    "print(f\"{rmse_transformed_rf:.4f}\")"
   ]
  },
  {
   "cell_type": "code",
   "execution_count": 79,
   "metadata": {
    "ExecuteTime": {
     "end_time": "2018-12-06T21:29:49.681973Z",
     "start_time": "2018-12-06T21:29:49.677944Z"
    }
   },
   "outputs": [
    {
     "name": "stdout",
     "output_type": "stream",
     "text": [
      "0.4786\n"
     ]
    }
   ],
   "source": [
    "rmse_gb = sqrt(mean_squared_error(\n",
    "    gb_predicted, test_target))\n",
    "\n",
    "print(f\"{rmse_gb:.4f}\")"
   ]
  },
  {
   "cell_type": "markdown",
   "metadata": {},
   "source": [
    "### Reduced Subset RMSE - Random Forest after PCA"
   ]
  },
  {
   "cell_type": "code",
   "execution_count": 240,
   "metadata": {
    "ExecuteTime": {
     "end_time": "2018-12-06T03:02:42.666595Z",
     "start_time": "2018-12-06T03:02:42.662121Z"
    }
   },
   "outputs": [
    {
     "name": "stdout",
     "output_type": "stream",
     "text": [
      "0.5992\n"
     ]
    }
   ],
   "source": [
    "rmse_transformed_rf_numerical_subset = sqrt(mean_squared_error(\n",
    "    transformed_rf_predicted_numerical_subset, test_target))\n",
    "\n",
    "print(f\"{rmse_transformed_rf_numerical_subset:.4f}\")"
   ]
  },
  {
   "cell_type": "code",
   "execution_count": 265,
   "metadata": {
    "ExecuteTime": {
     "end_time": "2018-12-06T03:42:59.364815Z",
     "start_time": "2018-12-06T03:42:59.359594Z"
    }
   },
   "outputs": [
    {
     "name": "stdout",
     "output_type": "stream",
     "text": [
      "0.5953\n"
     ]
    }
   ],
   "source": [
    "rmse_transformed_rf_predicted_similarity_subset = sqrt(\n",
    "    mean_squared_error(transformed_rf_predicted_similarity_subset, test_target))\n",
    "\n",
    "print(f\"{transformed_rf_predicted_similarity_subset:.4f}\")"
   ]
  },
  {
   "cell_type": "code",
   "execution_count": 276,
   "metadata": {
    "ExecuteTime": {
     "end_time": "2018-12-06T04:02:47.758708Z",
     "start_time": "2018-12-06T04:02:47.753709Z"
    }
   },
   "outputs": [
    {
     "name": "stdout",
     "output_type": "stream",
     "text": [
      "0.6039\n"
     ]
    }
   ],
   "source": [
    "rmse_transformed_rf_count_subset = sqrt(mean_squared_error(\n",
    "    transformed_rf_predicted_count_subset, test_target))\n",
    "\n",
    "print(f\"{rmse_transformed_rf_count_subset:.4f}\")"
   ]
  },
  {
   "cell_type": "code",
   "execution_count": 281,
   "metadata": {
    "ExecuteTime": {
     "end_time": "2018-12-06T04:12:32.832888Z",
     "start_time": "2018-12-06T04:12:32.828041Z"
    }
   },
   "outputs": [
    {
     "name": "stdout",
     "output_type": "stream",
     "text": [
      "0.5788\n"
     ]
    }
   ],
   "source": [
    "rmse_transformed_rf_len_entropy_subset = sqrt(mean_squared_error(\n",
    "    transformed_rf_predicted_len_entropy_subset, test_target))\n",
    "\n",
    "print(f\"{rmse_transformed_rf_len_entropy_subset:.4f}\")"
   ]
  },
  {
   "cell_type": "markdown",
   "metadata": {},
   "source": [
    "### Reduced Subset RMSE - Regular Random Forest"
   ]
  },
  {
   "cell_type": "code",
   "execution_count": 267,
   "metadata": {
    "ExecuteTime": {
     "end_time": "2018-12-06T03:51:04.842927Z",
     "start_time": "2018-12-06T03:51:04.838276Z"
    }
   },
   "outputs": [
    {
     "name": "stdout",
     "output_type": "stream",
     "text": [
      "0.5988\n"
     ]
    }
   ],
   "source": [
    "rmse_rf_numerical_subset = sqrt(mean_squared_error(\n",
    "    rf_predicted_numerical_subset, test_target))\n",
    "\n",
    "print(f\"{rmse_rf_numerical_subset:.4f}\")"
   ]
  },
  {
   "cell_type": "code",
   "execution_count": 269,
   "metadata": {
    "ExecuteTime": {
     "end_time": "2018-12-06T03:54:27.244229Z",
     "start_time": "2018-12-06T03:54:27.237178Z"
    }
   },
   "outputs": [
    {
     "name": "stdout",
     "output_type": "stream",
     "text": [
      "0.5950\n"
     ]
    }
   ],
   "source": [
    "rmse_rf_similarity_subset = sqrt(mean_squared_error(\n",
    "    rf_predicted_similarity_subset, test_target))\n",
    "\n",
    "print(f\"{rmse_rf_similarity_subset:.4f}\")"
   ]
  },
  {
   "cell_type": "code",
   "execution_count": 277,
   "metadata": {
    "ExecuteTime": {
     "end_time": "2018-12-06T04:03:15.490850Z",
     "start_time": "2018-12-06T04:03:15.482726Z"
    }
   },
   "outputs": [
    {
     "name": "stdout",
     "output_type": "stream",
     "text": [
      "0.6036\n"
     ]
    }
   ],
   "source": [
    "rmse_rf_count_subset = sqrt(mean_squared_error(\n",
    "    rf_predicted_count_subset, test_target))\n",
    "\n",
    "print(f\"{rmse_rf_count_subset:.4f}\")"
   ]
  },
  {
   "cell_type": "code",
   "execution_count": 282,
   "metadata": {
    "ExecuteTime": {
     "end_time": "2018-12-06T04:13:20.589394Z",
     "start_time": "2018-12-06T04:13:20.583976Z"
    }
   },
   "outputs": [
    {
     "name": "stdout",
     "output_type": "stream",
     "text": [
      "0.5786\n"
     ]
    }
   ],
   "source": [
    "rmse_rf_len_entropy_subset = sqrt(mean_squared_error(\n",
    "    rf_predicted_len_entropy_subset, test_target))\n",
    "\n",
    "print(f\"{rmse_rf_len_entropy_subset:.4f}\")"
   ]
  }
 ],
 "metadata": {
  "kernelspec": {
   "display_name": "Python 3",
   "language": "python",
   "name": "python3"
  },
  "language_info": {
   "codemirror_mode": {
    "name": "ipython",
    "version": 3
   },
   "file_extension": ".py",
   "mimetype": "text/x-python",
   "name": "python",
   "nbconvert_exporter": "python",
   "pygments_lexer": "ipython3",
   "version": "3.7.0"
  }
 },
 "nbformat": 4,
 "nbformat_minor": 2
}
